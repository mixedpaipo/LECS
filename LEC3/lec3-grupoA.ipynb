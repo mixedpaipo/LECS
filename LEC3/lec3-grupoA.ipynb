{
 "cells": [
  {
   "cell_type": "markdown",
   "metadata": {},
   "source": [
    "### Código LEC3 2024-2\n",
    "\n",
    "Grupo A "
   ]
  },
  {
   "cell_type": "code",
   "execution_count": null,
   "metadata": {},
   "outputs": [],
   "source": [
    "# Importación de librerías:\n",
    "import numpy as np\n",
    "import random\n",
    "import matplotlib.pyplot as plt\n",
    "import seaborn as sns\n",
    "import scipy.stats as stats\n",
    "from scipy.stats import poisson\n",
    "from scipy.stats import gamma\n",
    "from scipy.stats import norm, t\n",
    "import statsmodels.api as sm\n"
   ]
  },
  {
   "cell_type": "markdown",
   "metadata": {},
   "source": [
    "Pregunta 2.1:\n",
    "\n",
    "c) Grafique la distribución de probabilidad y la distribución de probabilidad acumulada. "
   ]
  },
  {
   "cell_type": "code",
   "execution_count": null,
   "metadata": {},
   "outputs": [],
   "source": [
    "# Definimos el valor de lambda\n",
    "v_lambda = 20\n",
    "\n",
    "# Definimos los valores de k\n",
    "k = np.arange(0, 41)\n",
    "\n",
    "# Función de distribución de probabilidad de Poisson \n",
    "poisson_pmf = poisson.pmf(k, v_lambda)\n",
    "\n",
    "# Función de distribución acumulada de Poisson:\n",
    "poisson_cdf = np.cumsum(poisson_pmf)"
   ]
  },
  {
   "cell_type": "code",
   "execution_count": null,
   "metadata": {},
   "outputs": [],
   "source": [
    "\n",
    "# Graficamos la distribución de probabilidad y la distribución acumulada de Poisson:\n",
    "plt.figure(figsize=(14,6))\n",
    "\n",
    "# Distribución de probabilidad\n",
    "plt.subplot(1, 2, 1)\n",
    "plt.bar(k, poisson_pmf, color='blue', alpha=0.5, label='Distribución de probabilidad de Poisson')\n",
    "plt.title('Distribución de probabilidad de errores (Poisson)')\n",
    "plt.xlabel('Número de errores (k)')\n",
    "plt.ylabel('Probabilidad P(X = k)')\n",
    "plt.xticks(k[::5])  # Mostrar ticks cada 5\n",
    "plt.grid(axis='y')\n",
    "plt.legend()\n",
    "\n",
    "# Distribución acumulada\n",
    "plt.subplot(1, 2, 2)\n",
    "plt.step(k, poisson_cdf, color='darkred', where='mid', label='Distribución acumulada de Poisson')\n",
    "plt.title('Distribución acumulada de errores (Poisson)')\n",
    "plt.xlabel('Número de errores (k)')\n",
    "plt.ylabel('Probabilidad P(X ≤ k)')\n",
    "plt.xticks(k[::5])  \n",
    "plt.grid(axis='y')\n",
    "plt.legend()\n",
    "\n",
    "# Ajustar el layout\n",
    "plt.tight_layout()\n",
    "plt.show()"
   ]
  },
  {
   "cell_type": "markdown",
   "metadata": {},
   "source": [
    "d) ¿Cuál es la probabilidad de que cometa más de 3 errores pero menos de 7?"
   ]
  },
  {
   "cell_type": "code",
   "execution_count": null,
   "metadata": {},
   "outputs": [],
   "source": [
    "# Necesitamos encontrar P(X=4) + P(X=5) + P(X=6)\n",
    "resultado = poisson_pmf[4] + poisson_pmf[5] + poisson_pmf[6]\n",
    "print(resultado*100)"
   ]
  },
  {
   "cell_type": "markdown",
   "metadata": {},
   "source": [
    "e) ¿Qué sucede con la distribución de probabilidad cuando la tasa de errores disminuye a\n",
    "un error cada 5, 6, 7, 8, 9 y 10 líneas de código? Grafique la distribución de probabilidad\n",
    "en función de la tasa de errores. Comente sus observaciones"
   ]
  },
  {
   "cell_type": "code",
   "execution_count": null,
   "metadata": {},
   "outputs": [],
   "source": [
    "#Definimos los distintos valores de lambda\n",
    "valores_lambda = [20, 100/6, 100/7, 100/8, 100/9, 10]\n",
    "\n",
    "plt.figure(figsize=(14,6))\n",
    "\n",
    "# Calculamos sus distribuciones de probabilidad\n",
    "for i, v in enumerate(valores_lambda, 1):\n",
    "    poisson_pmf = poisson.pmf(k, v)\n",
    "    plt.subplot(2, 3, i)\n",
    "    plt.bar(k, poisson_pmf, color='navy', alpha=0.5, label=f'λ = {v:.2f}')\n",
    "    plt.title(f'Distribución de probabilidad (λ = {v:.2f})')\n",
    "    plt.xlabel('Número de errores (k)')\n",
    "    plt.ylabel('Probabilidad P(X = k)')\n",
    "    plt.xticks(k[::5])\n",
    "    plt.grid(axis='y')\n",
    "    plt.legend()\n",
    "    plt.subplots_adjust(wspace=0.4, hspace=0.6)  \n",
    "plt.show()"
   ]
  },
  {
   "cell_type": "markdown",
   "metadata": {},
   "source": [
    "Pregunta 2.2:\n",
    "\n",
    "a) Determine la media µ y la desviación estándar σ para la distribución t-student con los\n",
    "parámetros indicados previamente."
   ]
  },
  {
   "cell_type": "code",
   "execution_count": null,
   "metadata": {},
   "outputs": [],
   "source": [
    "#Se responde en el PDF"
   ]
  },
  {
   "cell_type": "markdown",
   "metadata": {},
   "source": [
    "b) Usando 1000 muestras, genere los conjuntos S5,S10,S100,S1000 con los valores de n :\n",
    "5,10,100,1000, respectivamente."
   ]
  },
  {
   "cell_type": "code",
   "execution_count": null,
   "metadata": {},
   "outputs": [],
   "source": [
    "# Grados de libertad\n",
    "grados = 8\n",
    "\n",
    "# Número de muestras\n",
    "muestras = 1000\n",
    "\n",
    "# Valores de n\n",
    "valores_n = [5, 10, 100, 1000]\n",
    "\n",
    "# Inicializamos un diccionario\n",
    "S_n = {}\n",
    "\n",
    "# Generar muestras y calcular las sumas S_n para cada n\n",
    "for n in valores_n:\n",
    "    samples = stats.t.rvs(grados, size=(muestras, n))\n",
    "    S_n[n] = np.sum(samples, axis=1)\n",
    "\n",
    "\n",
    "# Graficar los histogramas de los conjuntos S5, S10, S100, S1000\n",
    "plt.figure(figsize=(12, 8))\n",
    "for i, n in enumerate(valores_n, 1):\n",
    "    plt.subplot(2, 2, i)\n",
    "    plt.hist(S_n[n], bins=30, density=True, alpha=0.7, label=f'S_{n}')\n",
    "    plt.title(f'Histograma de S_{n} (n={n})')\n",
    "    plt.xlabel('Valor')\n",
    "    plt.ylabel('Densidad')\n",
    "    plt.legend()\n",
    "\n",
    "plt.tight_layout()\n",
    "plt.show()"
   ]
  },
  {
   "cell_type": "markdown",
   "metadata": {},
   "source": [
    "c) Para cada conjunto Sn, estandarice los valores para generar un conjunto estandarizado\n",
    "Zn.\n"
   ]
  },
  {
   "cell_type": "code",
   "execution_count": null,
   "metadata": {},
   "outputs": [],
   "source": [
    "# Grados de libertad\n",
    "grados = 8\n",
    "# Número de muestras\n",
    "muestras = 1000\n",
    "# Valores de n\n",
    "valores_n = [5, 10, 100, 1000]\n",
    "\n",
    "# Inicializamos un diccionario\n",
    "S_n = {}\n",
    "\n",
    "# Generar muestras y calcular las sumas S_n para cada n\n",
    "for n in valores_n:\n",
    "    samples = stats.t.rvs(grados, size=(muestras, n))\n",
    "    S_n[n] = np.sum(samples, axis=1)\n",
    "\n",
    "mean = 0  \n",
    "std_dev = np.sqrt(grados / (grados - 2))  # Ya calculado como 1.1547 para grados = 8\n",
    "\n",
    "# Inicializamos un diccionario para almacenar los conjuntos Z_n\n",
    "Z_n = {}\n",
    "\n",
    "# Estandarizar los conjuntos S_n\n",
    "for n in valores_n:\n",
    "    Z_n[n] = (S_n[n] - n * mean) / (std_dev * np.sqrt(n))\n",
    "\n",
    "# Graficar los histogramas de los conjuntos Z5, Z10, Z100, Z1000\n",
    "plt.figure(figsize=(12, 8))\n",
    "\n",
    "for i, n in enumerate(valores_n, 1):\n",
    "    plt.subplot(2, 2, i)\n",
    "    plt.hist(Z_n[n], bins=30, density=True, alpha=0.7, label=f'Z_{n}')\n",
    "    plt.title(f'Histograma de Z_{n} (n={n}) estandarizado')\n",
    "    plt.xlabel('Valor')\n",
    "    plt.ylabel('Densidad')\n",
    "    plt.legend()\n",
    "\n",
    "plt.tight_layout()\n",
    "plt.show()"
   ]
  },
  {
   "cell_type": "markdown",
   "metadata": {},
   "source": [
    "d) Para cada conjunto Zn, grafique su densidad y agregue la función de distribución normal estándar para comparar. Comente sus observaciones."
   ]
  },
  {
   "cell_type": "code",
   "execution_count": null,
   "metadata": {},
   "outputs": [],
   "source": [
    "\n",
    "grados = 8  # Grados de libertad\n",
    "valores_n = 1000  # Número de muestras\n",
    "media = 0  # Media \n",
    "sigma = np.sqrt(grados / (grados - 2))  # Desviación estándar\n",
    "\n",
    "# Valores de n para generar los conjuntos S5, S10, S100, S1000\n",
    "n_values = [5, 10, 100, 1000]\n",
    "S_sets = {}\n",
    "Z_sets = {}\n",
    "\n",
    "# Generar y estandarizar los conjuntos\n",
    "for n in n_values:\n",
    "\n",
    "    S_n = np.sum(t.rvs(grados, size=(valores_n, n)), axis=1)\n",
    "    S_sets[f'S{n}'] = S_n\n",
    "    \n",
    "    Z_n = (S_n - n * media) / (sigma * np.sqrt(n))\n",
    "    Z_sets[f'Z{n}'] = Z_n\n",
    "\n",
    "# Configuración de las gráficas\n",
    "fig, axes = plt.subplots(2, 2, figsize=(12, 10))  # 2 filas, 2 columnas de gráficos\n",
    "\n",
    "# Graficar cada conjunto Z_n en su propio subplot y superponer la distribución normal estándar\n",
    "x = np.linspace(-4, 4, 1000) \n",
    "normal_density = norm.pdf(x)  \n",
    "\n",
    "for i, n in enumerate(n_values):\n",
    "    ax = axes[i // 2, i % 2]  \n",
    "    \n",
    "    # Graficar la densidad de Z_n\n",
    "    sns.histplot(Z_sets[f'Z{n}'], kde=False, bins=30, ax=ax, stat=\"density\", color=plt.cm.viridis(i / len(n_values)))\n",
    "    \n",
    "    # Superponer la curva de la distribución normal estándar\n",
    "    ax.plot(x, normal_density, 'r--', label='Normal(0,1)', lw=2)\n",
    "    \n",
    "    ax.set_title(f\"Densidad estandarizada de Z{n} (n={n})\")\n",
    "    ax.set_xlabel(\"Valor de Zn\")\n",
    "    ax.set_ylabel(\"Densidad\")\n",
    "    ax.legend()\n",
    "\n",
    "plt.tight_layout() \n",
    "plt.show()"
   ]
  },
  {
   "cell_type": "markdown",
   "metadata": {},
   "source": [
    "e) Construya un gráfico Q-Q normal para los conjuntos de Zn obtenidos en la pregunta anterior. Comente sus observaciones con respecto a los gráficos, basándose en las\n",
    "propiedades de los gráficos Q-Q normales. "
   ]
  },
  {
   "cell_type": "code",
   "execution_count": null,
   "metadata": {},
   "outputs": [],
   "source": [
    "# Grados de libertad\n",
    "grados = 8\n",
    "# Número de muestras\n",
    "muestras = 1000\n",
    "# Valores de n\n",
    "valores_n = [5, 10, 100, 1000]\n",
    "\n",
    "# Inicializamos un diccionario\n",
    "S_n = {}\n",
    "\n",
    "# Generar muestras y calcular las sumas S_n para cada n\n",
    "for n in valores_n:\n",
    "    samples = stats.t.rvs(grados, size=(muestras, n))\n",
    "    S_n[n] = np.sum(samples, axis=1)\n",
    "\n",
    "mean = 0  \n",
    "std_dev = np.sqrt(grados / (grados - 2))  # Ya calculado como 1.1547 para grados = 8\n",
    "\n",
    "# Inicializamos un diccionario para almacenar los conjuntos Z_n\n",
    "Z_n = {}\n",
    "\n",
    "# Estandarizar los conjuntos S_n\n",
    "for n in valores_n:\n",
    "    Z_n[n] = (S_n[n] - n * mean) / (std_dev * np.sqrt(n))\n",
    "\n",
    "# Graficar las densidades de los conjuntos Z5, Z10, Z100, Z1000 y superponer la normal estándar\n",
    "plt.figure(figsize=(12, 8))\n",
    "\n",
    "# Espacio de valores para la curva de distribución normal estándar\n",
    "x = np.linspace(-4, 4, 1000)\n",
    "normal_pdf = norm.pdf(x, 0, 1)\n",
    "\n",
    "# Graficar los gráficos Q-Q para los conjuntos Z5, Z10, Z100, Z1000\n",
    "plt.figure(figsize=(12, 8))\n",
    "\n",
    "for i, n in enumerate(valores_n, 1):\n",
    "    plt.subplot(2, 2, i)\n",
    "    \n",
    "    # Gráfico Q-Q para el conjunto Z_n\n",
    "    sm.qqplot(Z_n[n], line='45', ax=plt.gca())\n",
    "    plt.title(f'Gráfico Q-Q de Z_{n} (n={n})')\n",
    "\n",
    "plt.tight_layout()\n",
    "plt.show()"
   ]
  },
  {
   "cell_type": "markdown",
   "metadata": {},
   "source": [
    "f) ¿Cambian sus observaciones de los incisos anteriores al cambiar la distribución de\n",
    "probabilidad usada? Explique."
   ]
  },
  {
   "cell_type": "code",
   "execution_count": null,
   "metadata": {},
   "outputs": [],
   "source": [
    "#Se responde en el PDF"
   ]
  },
  {
   "cell_type": "markdown",
   "metadata": {},
   "source": [
    "g) ¿Qué sucede si se toman muestras de más de una distribución? Explique."
   ]
  },
  {
   "cell_type": "code",
   "execution_count": null,
   "metadata": {},
   "outputs": [],
   "source": [
    "#Se responde en el PDF"
   ]
  },
  {
   "cell_type": "markdown",
   "metadata": {},
   "source": [
    "Pregunta 2.3\n",
    "\n",
    "a) Simule los tiempos entre descomposiciones de 500 átomos de una muestra radiactiva. El proceso sigue una distribución Gamma con parámetros α = 4 y β = 1,5 (donde α representa el número de etapas intermedias en el proceso de descomposición y β el tiempo promedio entre etapas)."
   ]
  },
  {
   "cell_type": "code",
   "execution_count": null,
   "metadata": {},
   "outputs": [],
   "source": [
    "# Definimos los parametros\n",
    "alpha = 4\n",
    "beta = 1.5\n",
    "n_atomos = 500\n",
    "\n",
    "# Simulacion de los tiempos entre descomposiciones\n",
    "tiempos = np.random.gamma(alpha, beta, n_atomos)\n"
   ]
  },
  {
   "cell_type": "markdown",
   "metadata": {},
   "source": [
    "b) Calcule la media y la varianza de los datos generados, para luego compararlas con la media y varianza teórica de la distribución. Adjunte las fórmulas teóricas."
   ]
  },
  {
   "cell_type": "code",
   "execution_count": null,
   "metadata": {},
   "outputs": [],
   "source": [
    "# Media y varianza de los datos simulados\n",
    "media1 = np.mean(tiempos)\n",
    "varianza1 = np.var(tiempos)\n",
    "\n",
    "print(f\"Media simulada: {media1}\")\n",
    "print(f\"Varianza simulada: {varianza1}\")\n",
    "\n",
    "# Media y varianza teorica\n",
    "media2 = alpha * beta\n",
    "varianza2 = alpha * (beta ** 2)\n",
    "\n",
    "print(f\"Media teórica: {media2}\")\n",
    "print(f\"Varianza teórica: {varianza2}\")"
   ]
  },
  {
   "cell_type": "markdown",
   "metadata": {},
   "source": [
    "c) Visualice la distribución de los datos y superponga la densidad teórica de la distribución Gamma con los parámetros utilizados."
   ]
  },
  {
   "cell_type": "code",
   "execution_count": null,
   "metadata": {},
   "outputs": [],
   "source": [
    "# Histograma para los datos simulados\n",
    "plt.hist(tiempos, bins=30, density=True, alpha=0.6, color='skyblue', edgecolor='black', label='Datos simulados')\n",
    "\n",
    "# Valores para la densidad teórica de la distribución Gamma\n",
    "x = np.linspace(0, max(tiempos), 1000)\n",
    "densidad_teorica = gamma.pdf(x, a=alpha, scale=beta)\n",
    "\n",
    "# Superponer la densidad teórica\n",
    "plt.plot(x, densidad_teorica, 'r-', lw=2, label='Densidad teórica (Gamma)')\n",
    "\n",
    "plt.title('Distribución de tiempos entre descomposiciones y densidad teórica (Gamma)')\n",
    "plt.xlabel('Tiempo entre descomposiciones')\n",
    "plt.ylabel('Densidad de probabilidad')\n",
    "plt.legend()\n",
    "plt.show()"
   ]
  },
  {
   "cell_type": "markdown",
   "metadata": {},
   "source": [
    "d) ¿Qué interpretación tienen los parámetros α y β dentro de una distribución Gamma?\n",
    "Explique cómo se podrían interpretar en este contexto físico con los valores propuestos"
   ]
  },
  {
   "cell_type": "code",
   "execution_count": null,
   "metadata": {},
   "outputs": [],
   "source": [
    "#Se responde en el PDF"
   ]
  },
  {
   "cell_type": "markdown",
   "metadata": {},
   "source": [
    "e) Ahora simule el proceso para 10,000 átomos ¿cómo se comporta el tiempo total de\n",
    "descomposición de la muestra completa? Compárelo con los resultados obtenidos para los 500 átomos iniciales. ¿Cómo cambia la estimación de la media y la varianza con\n",
    "un número mayor de simulaciones? Adjunte gráficos comparativos y comente"
   ]
  },
  {
   "cell_type": "code",
   "execution_count": null,
   "metadata": {},
   "outputs": [],
   "source": [
    "# Simulación para 10,000 átomos\n",
    "n_atomos_10000 = 10000\n",
    "tiempos_2 = np.random.gamma(alpha, beta, n_atomos_10000)\n",
    "\n",
    "# Media y varianza de los nuevos datos simulados\n",
    "media1_10000 = np.mean(tiempos_2)\n",
    "varianza1_10000 = np.var(tiempos_2)\n",
    "\n",
    "print(f\"Media simulada: {media1_10000}\")\n",
    "print(f\"Varianza simulada: {varianza1_10000}\")\n",
    "\n",
    "# Comparación gráfica de las distribuciones\n",
    "plt.hist(tiempos, bins=30, density=True, alpha=0.6, color='blue', label='500 átomos')\n",
    "plt.hist(tiempos_2, bins=30, density=True, alpha=0.6, color='green', label='10,000 átomos')\n",
    "\n",
    "# Superponer la densidad teórica\n",
    "x = np.linspace(0, max(tiempos_2), 1000)\n",
    "densidad_teorica = gamma.pdf(x, a=alpha, scale=beta)\n",
    "plt.plot(x, densidad_teorica, 'r-', lw=2, label='Densidad teórica (Gamma)')\n",
    "\n",
    "plt.title('Comparación de distribuciones con diferentes tamaños de muestra')\n",
    "plt.xlabel('Tiempo entre descomposiciones')\n",
    "plt.ylabel('Densidad de probabilidad')\n",
    "plt.legend()\n",
    "plt.show()\n"
   ]
  },
  {
   "cell_type": "markdown",
   "metadata": {},
   "source": [
    "Pregunta 2.4\n",
    "\n",
    "a)Grafique el promedio muestral X¯n en\n",
    "función del tamaño de la muestra n. En el mismo gráfico compare con el valor teórico\n",
    "de la distribución. Comente y explique los comportamientos."
   ]
  },
  {
   "cell_type": "code",
   "execution_count": null,
   "metadata": {},
   "outputs": [],
   "source": [
    "dfn, dfd = 3, 5\n",
    "tamaño_sims = [10, 100, 500, 1000, 2000, 5000, 7000, 10000]\n",
    "\n",
    "simulaciones = []\n",
    "for tamaño in tamaño_sims:\n",
    "    simulacion = f.rvs(dfn, dfd, size=tamaño)\n",
    "    simulaciones.append(np.mean(simulacion))\n",
    "\n",
    "valor_teorico = dfd / (dfd - 2)\n",
    "\n",
    "plt.figure(figsize=(10,6))\n",
    "plt.plot(tamaño_sims, simulaciones, label='Promedio muestral', marker='o')\n",
    "plt.axhline(y=valor_teorico, color='r', linestyle='--', label='Valor teórico')\n",
    "plt.xlabel('Tamaño de la muestra (n)')\n",
    "plt.ylabel('Promedio muestral')\n",
    "plt.title('Verificación de la Ley Débil de los Grandes Números con distribución F')\n",
    "plt.legend()\n",
    "plt.grid(True)\n",
    "plt.show()"
   ]
  },
  {
   "cell_type": "markdown",
   "metadata": {},
   "source": [
    "b)Grafique en función del tamaño de la muestra ¿qué comportamientos observa? "
   ]
  },
  {
   "cell_type": "code",
   "execution_count": null,
   "metadata": {},
   "outputs": [],
   "source": [
    "dfn, dfd = 3, 5\n",
    "sim_tamaño = [10, 100, 500, 1000, 2000, 5000, 7000, 10000]\n",
    "\n",
    "simulaciones = []\n",
    "for tamaño in sim_tamaño:\n",
    "    sim = f.rvs(dfn, dfd, size=tamaño)\n",
    "    simulaciones.append(np.mean(sim))\n",
    "\n",
    "error_teorico = dfd / (dfd - 2)\n",
    "\n",
    "error_practico = [abs(mean- error_teorico) for mean in simulaciones]\n",
    "\n",
    "\n",
    "plt.figure(figsize=(10,6))\n",
    "plt.plot(sim_tamaño, error_practico, marker='o', label='Error absoluto')\n",
    "plt.xlabel('Tamaño de la muestra (n)')\n",
    "plt.ylabel('Error absoluto')\n",
    "plt.title('Error absoluto entre promedio muestral y valor teórico')\n",
    "plt.grid(True)\n",
    "plt.legend()\n",
    "plt.show()"
   ]
  },
  {
   "cell_type": "markdown",
   "metadata": {},
   "source": [
    "c)¿Todas las distribuciones se comportan de la misma manera? Presente su\n",
    "desarrollo y experimentos para responder la pregunta."
   ]
  },
  {
   "cell_type": "code",
   "execution_count": null,
   "metadata": {},
   "outputs": [],
   "source": [
    "dfn, dfd = 3, 5\n",
    "tamaño_sim = [10, 100, 500, 1000, 2000, 5000, 7000, 10000]\n",
    "\n",
    "def calcular_error(distribution, teoria, tamaño_sim):\n",
    "    simulaciones = [np.mean(distribution(tamaño)) for tamaño in tamaño_sim]\n",
    "    absolute_errors = [abs(sim - teoria) for sim in simulaciones]\n",
    "    return absolute_errors\n",
    "\n",
    "normal_sim = 0\n",
    "normal_error = calcular_error(lambda n: np.random.normal(loc=0, scale=1, size=n), normal_sim, tamaño_sim)\n",
    "\n",
    "exponential_sim = 1\n",
    "exponential_error = calcular_error(lambda n: np.random.exponential(scale=1, size=n), exponential_sim, tamaño_sim)\n",
    "\n",
    "cauchy_median = 0\n",
    "cauchy_error = calcular_error(lambda n: np.random.standard_cauchy(size=n), cauchy_median, tamaño_sim)\n",
    "\n",
    "f_sim = dfd / (dfd - 2)\n",
    "f_error = calcular_error(lambda n: f.rvs(dfn, dfd, size=n), f_sim, tamaño_sim)\n",
    "\n",
    "\n",
    "plt.figure(figsize=(10,6))\n",
    "plt.plot(tamaño_sim, normal_error, marker='o', label='Distribución Normal')\n",
    "plt.plot(tamaño_sim, exponential_error, marker='o', label='Distribución Exponencial')\n",
    "plt.plot(tamaño_sim, cauchy_error, marker='o', label='Distribución Cauchy')\n",
    "plt.plot(tamaño_sim, f_error, marker='o', label='Distribución F (Fisher-Snedecor)')\n",
    "plt.xlabel('Tamaño de la muestra (n)')\n",
    "plt.ylabel('Error absoluto')\n",
    "plt.title('Velocidad de convergencia: Diferentes distribuciones')\n",
    "plt.legend()\n",
    "plt.grid(True)\n",
    "plt.show()"
   ]
  },
  {
   "cell_type": "markdown",
   "metadata": {},
   "source": [
    "d)Investigue las diferencias entre la ley débil y ley fuerte de los grandes números. ¿Cuál\n",
    "de las dos leyes es más útil en relación a las simulaciones estadísticas?"
   ]
  },
  {
   "cell_type": "code",
   "execution_count": null,
   "metadata": {},
   "outputs": [],
   "source": [
    "#Se responde en PDF"
   ]
  }
 ],
 "metadata": {
  "kernelspec": {
   "display_name": "Python 3 (ipykernel)",
   "language": "python",
   "name": "python3"
  },
  "language_info": {
   "codemirror_mode": {
    "name": "ipython",
    "version": 3
   },
   "file_extension": ".py",
   "mimetype": "text/x-python",
   "name": "python",
   "nbconvert_exporter": "python",
   "pygments_lexer": "ipython3",
   "version": "3.11.7"
  }
 },
 "nbformat": 4,
 "nbformat_minor": 4
}
