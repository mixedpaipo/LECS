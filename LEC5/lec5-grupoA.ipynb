{
 "cells": [
  {
   "cell_type": "markdown",
   "metadata": {},
   "source": [
    "### Código LEC5 2024-2\n",
    "\n",
    "Grupo A "
   ]
  },
  {
   "cell_type": "code",
   "execution_count": null,
   "metadata": {},
   "outputs": [],
   "source": [
    "# Importación de librerías:\n",
    "import numpy as np\n",
    "import pandas as pd\n",
    "import random\n",
    "import matplotlib.pyplot as plt\n",
    "import seaborn as sns\n",
    "rng = np.random.default_rng(0)"
   ]
  },
  {
   "cell_type": "markdown",
   "metadata": {},
   "source": [
    "3.1 a) Explique detalladamente la estimación de estadísticos utilizando el método Bootstrap"
   ]
  },
  {
   "cell_type": "markdown",
   "metadata": {},
   "source": [
    "La estimación de estadísticos utilizando el método bootstrap se basa en escoger una muestra del mismo tamaño de la muestra original de manera aleatoria, dependiendo del estadístico que queramos estimar calculamos correspondientemente, en el caso de la media: tomariamos nuestra muestra nueva y le calcularíamos a cada una de estas muestras su media generando un arreglo de datos nuevos usando bootstrap por $n$ iteraciones, finalmente al haber calculado todas las iteraciones se calcula la media y este sería nuestro estadístico estimado por el método bootstrap.\n",
    "\n",
    "Cabe destacar que Bootstrap nos permite encontrar los intervalos de confianza de una manera mucho más eficiente, debido a que si tomamos los percentiles 2,5% y 97,5% son nuestros límites inferior y superior para todo estadístico"
   ]
  },
  {
   "cell_type": "markdown",
   "metadata": {},
   "source": [
    "3.1 b) Plantee una función en Python la que permita estimar un estadistico $X$ con n remuestreos bootstrap"
   ]
  },
  {
   "cell_type": "code",
   "execution_count": null,
   "metadata": {},
   "outputs": [],
   "source": [
    "# Estima el estadístico: Media\n",
    "def estimacion_media_bootstrap(data, n_muestreos):\n",
    "    medias = []\n",
    "    for i in range(n_muestreos):\n",
    "        muestra = rng.choice(data, size=len(data), replace=True) \n",
    "        medias.append(np.mean(muestra)) \n",
    "        \n",
    "    mean_medias = np.mean(medias)    \n",
    "    return mean_medias, medias\n",
    "\n",
    "# Estima el estadístico: Desviación estándar\n",
    "def estimacion_dv_bootstrap(data, n_muestreos):\n",
    "    dv = []\n",
    "    for i in range(n_muestreos):\n",
    "        muestra = rng.choice(data, size=len(data), replace=True) \n",
    "        dv.append(np.std(muestra)) \n",
    "        \n",
    "    mean_dv = np.mean(dv)\n",
    "    return mean_dv, dv"
   ]
  },
  {
   "cell_type": "markdown",
   "metadata": {},
   "source": [
    "3.1 c) Estime la media de la población en relación a body_mass_g y sex (estimar para macho y hembra por separado) usando Bootstrap sobre los datos de la especie de pingüino escogida. Utilice $10^4$ remuestreos Bootstrap."
   ]
  },
  {
   "cell_type": "markdown",
   "metadata": {},
   "source": [
    "Las especies de pingüinos son \"Adelie\", \"Chinstrap\" y \"Gentoo\", se elegirá la especie de \"Chinstrap\""
   ]
  },
  {
   "cell_type": "code",
   "execution_count": null,
   "metadata": {},
   "outputs": [],
   "source": [
    "# Importación de los datos\n",
    "df = pd.read_csv(\"penguins_size.csv\")"
   ]
  },
  {
   "cell_type": "code",
   "execution_count": null,
   "metadata": {},
   "outputs": [],
   "source": [
    "# Masa corporal de los pingüinos por sexo\n",
    "body_mass_g_m = df[(df['species'] == 'Chinstrap') & (df['sex'] == 'MALE')]['body_mass_g']\n",
    "body_mass_g_f = df[(df['species'] == 'Chinstrap') & (df['sex'] == 'FEMALE')]['body_mass_g']\n",
    "\n",
    "# Estimación de la media de la masa corporal de los pingüinos machos\n",
    "media_m = estimacion_media_bootstrap(body_mass_g_m, 10000)\n",
    "\n",
    "# Estimación de la media de la masa corporal de los pingüinos hembras\n",
    "media_f = estimacion_media_bootstrap(body_mass_g_f, 10000)\n",
    "\n",
    "print(f\"Estimación de la media de la masa corporal de los pingüinos machos: {media_m[0]:.2f}\")\n",
    "print(f\"Estimación de la media de la masa corporal de los pingüinos hembras: {media_f[0]:.2f}\")\n"
   ]
  },
  {
   "cell_type": "markdown",
   "metadata": {},
   "source": [
    "3.1 d) Estime la desviación estándar de la población de cada uno usando Bootstrap sobre la especie de pingüino escogida. Utilice $10^4$ remuestreos Bootstrap"
   ]
  },
  {
   "cell_type": "code",
   "execution_count": null,
   "metadata": {},
   "outputs": [],
   "source": [
    "# Masa corporal de los pingüinos por sexo\n",
    "body_mass_g_m = df[(df['species'] == 'Chinstrap') & (df['sex'] == 'MALE')]['body_mass_g']\n",
    "body_mass_g_f = df[(df['species'] == 'Chinstrap') & (df['sex'] == 'FEMALE')]['body_mass_g']\n",
    "\n",
    "# Estimación de la dv de la masa corporal de los pingüinos machos\n",
    "dv_m = estimacion_dv_bootstrap(body_mass_g_m, 10000)\n",
    "\n",
    "# Estimación de la dv de la masa corporal de los pingüinos hembras\n",
    "dv_f = estimacion_dv_bootstrap(body_mass_g_f, 10000)\n",
    "\n",
    "print(f\"Estimación de la desviación estándar a de la masa corporal de los pingüinos machos: {dv_m[0]:.2f}\")\n",
    "print(f\"Estimación de la desviación estándar de la masa corporal de los pingüinos hembras: {dv_f[0]:.2f}\")\n"
   ]
  },
  {
   "cell_type": "markdown",
   "metadata": {},
   "source": [
    "3.1 e) Grafique cómo se distribuye los remuestreos Bootstrap en ambos casos, para cada estadístico por separado"
   ]
  },
  {
   "cell_type": "code",
   "execution_count": null,
   "metadata": {},
   "outputs": [],
   "source": [
    "# Graficos de la distribución de la masa corporal estimada por bootstrap de los pingüinos machos y hembras\n",
    "plt.figure(figsize=(12, 10))\n",
    "\n",
    "# Distribución de la masa corporal de los pingüinos machos con el estimador media\n",
    "plt.subplot(2, 2, 1)\n",
    "sns.histplot(media_m[1], kde=True, color='navy', bins=30)\n",
    "plt.title('Distribución de la bm de los pingüinos machos con el estimador media')\n",
    "plt.xlabel('Masa corporal (g)')\n",
    "plt.ylabel('Frecuencia')\n",
    "\n",
    "# Distribución de la masa corporal de los pingüinos hembra con el estimador media\n",
    "plt.subplot(2, 2, 2)\n",
    "sns.histplot(media_f[1], kde=True, color='navy', bins=30)\n",
    "plt.title('Distribución de bm de los pingüinos hembra con el estimador media')\n",
    "plt.xlabel('Masa corporal (g)')\n",
    "plt.ylabel('Frecuencia')\n",
    "\n",
    "# Distribución de la masa corporal de los pingüinos machos con el estimador dv\n",
    "plt.subplot(2, 2, 3)\n",
    "sns.histplot(dv_m[1], kde=True, color='navy', bins=30)\n",
    "plt.title('Distribución de la bm de los pingüinos machos con el estimador dv')\n",
    "plt.xlabel('Masa corporal (g)')\n",
    "plt.ylabel('Frecuencia')\n",
    "\n",
    "# Distribución de la masa corporal de los pingüinos hembra con el estimador dv\n",
    "plt.subplot(2, 2, 4)\n",
    "sns.histplot(dv_f[1], kde=True, color='navy', bins=30)\n",
    "plt.title('Distribución de la bm de los pingüinos hembra con el estimador dv')\n",
    "plt.xlabel('Masa corporal (g)')\n",
    "plt.ylabel('Frecuencia')\n",
    "\n",
    "plt.tight_layout()\n",
    "plt.show()"
   ]
  },
  {
   "cell_type": "markdown",
   "metadata": {},
   "source": [
    "3.1 f) Obtenga un intervalo de confianza del 95% para cada estimador, a partir de los datos ya obtenidos. Repita los gráficos anteriores agregando este intervalo. También incluya los valores de cada estadístico de la muestra original como referencia"
   ]
  },
  {
   "cell_type": "markdown",
   "metadata": {},
   "source": [
    "Dado que Bootstrap nos permite encontrar directamente los intervalos de confianza para los estimadores, solo calcularemos los percentiles $2.5\\%$ y $97,5\\%$ respectivamente quedandonos con un intervalo del 95% de confianza"
   ]
  },
  {
   "cell_type": "code",
   "execution_count": null,
   "metadata": {},
   "outputs": [],
   "source": [
    "# Cálculos muestra original\n",
    "\n",
    "# Media\n",
    "bm_o_m = np.mean(body_mass_g_m)\n",
    "bm_o_f = np.mean(body_mass_g_f)\n",
    "\n",
    "print(f\"Media original de la masa corporal de los pingüinos machos: {bm_o_m:.2f}\")\t\n",
    "print(f\"Media original de la masa corporal de los pingüinos hembras: {bm_o_f:.2f}\")\n",
    "\n",
    "\n",
    "print(\"\\n\")\n",
    "#Desviación Estándar\n",
    "dv_o_m = np.std(body_mass_g_m)\n",
    "dv_o_f = np.std(body_mass_g_f)\n",
    "\n",
    "print(f\"Desviación estándar original de la masa corporal de los pingüinos machos: {dv_o_m:.2f}\")\n",
    "print(f\"Desviación estándar original de la masa corporal de los pingüinos hembras: {dv_o_f:.2f}\")"
   ]
  },
  {
   "cell_type": "code",
   "execution_count": null,
   "metadata": {},
   "outputs": [],
   "source": [
    "# Cálculo percentiles\n",
    "# Media\n",
    "# Percentiles 2.5%\n",
    "limite_inf_m = np.percentile(media_m[1], 2.5)\n",
    "limite_inf_f = np.percentile(media_f[1], 2.5)\n",
    "\n",
    "# Percentiles 97.5%\n",
    "limite_sup_m = np.percentile(media_m[1], 97.5)\n",
    "limite_sup_f = np.percentile(media_f[1], 97.5)\n",
    "\n",
    "print(f\"Intervalo de confianza del 95% de la masa corporal de los pingüinos machos usando la media: ({limite_inf_m:.2f}, {limite_sup_m:.2f})\")\n",
    "print(f\"Intervalo de confianza del 95% de la masa corporal de los pingüinos hembras usando la media: ({limite_inf_f:.2f}, {limite_sup_f:.2f})\")\n",
    "\n",
    "print(\"\\n\")\n",
    "\n",
    "# Desviación estándar\n",
    "limite_inf_dv_m = np.percentile(dv_m[1], 2.5)\n",
    "limite_inf_dv_f = np.percentile(dv_f[1], 2.5)\n",
    "\n",
    "# Percentiles 97.5%\n",
    "limite_sup_dv_m = np.percentile(dv_m[1], 97.5)\n",
    "limite_sup_dv_f = np.percentile(dv_f[1], 97.5)\n",
    "\n",
    "print(f\"Intervalo de confianza del 95% de la masa corporal de los pingüinos machos usando la dv: ({limite_inf_m:.2f}, {limite_sup_m:.2f})\")\n",
    "print(f\"Intervalo de confianza del 95% de la masa corporal de los pingüinos hembras usando la dv: ({limite_inf_f:.2f}, {limite_sup_f:.2f})\")\n"
   ]
  },
  {
   "cell_type": "code",
   "execution_count": null,
   "metadata": {},
   "outputs": [],
   "source": [
    "# Gráficos agregando los intervalos de confianza\n",
    "# Graficos de la distribución de la masa corporal estimada por bootstrap de los pingüinos machos y hembras\n",
    "plt.figure(figsize=(12, 10))\n",
    "\n",
    "# Distribución de la masa corporal de los pingüinos machos con el estimador media\n",
    "plt.subplot(2, 2, 1)\n",
    "sns.histplot(media_m[1], kde=True, color='navy', bins=30)\n",
    "plt.axvline(limite_inf_m, color='red', linestyle='--', label='Límite inferior 95%')\n",
    "plt.axvline(limite_sup_m, color='green', linestyle='--', label='Límite superior 95%')\n",
    "plt.axvline(bm_o_m, color='black', linestyle='-', label='Media original')\n",
    "plt.title('Distribución de la bm de los pingüinos machos con el estimador media')\n",
    "plt.xlabel('Masa corporal (g)')\n",
    "plt.ylabel('Frecuencia')\n",
    "plt.legend()\n",
    "\n",
    "# Distribución de la masa corporal de los pingüinos hembra con el estimador media\n",
    "plt.subplot(2, 2, 2)\n",
    "sns.histplot(media_f[1], kde=True, color='navy', bins=30)\n",
    "plt.axvline(limite_inf_f, color='red', linestyle='--', label='Límite inferior 95%')\n",
    "plt.axvline(limite_sup_f, color='green', linestyle='--', label='Límite superior 95%')\n",
    "plt.axvline(bm_o_f, color='black', linestyle='-', label='Media original')\n",
    "plt.title('Distribución de bm de los pingüinos hembra con el estimador media')\n",
    "plt.xlabel('Masa corporal (g)')\n",
    "plt.ylabel('Frecuencia')\n",
    "plt.legend()\n",
    "\n",
    "# Distribución de la masa corporal de los pingüinos machos con el estimador dv\n",
    "plt.subplot(2, 2, 3)\n",
    "sns.histplot(dv_m[1], kde=True, color='navy', bins=30)\n",
    "plt.axvline(limite_inf_dv_m, color='red', linestyle='--', label='Límite inferior 95%')\n",
    "plt.axvline(limite_sup_dv_m, color='green', linestyle='--', label='Límite superior 95%')\n",
    "plt.axvline(dv_o_m, color='black', linestyle='-', label='Desviación estándar original')\n",
    "plt.title('Distribución de la bm de los pingüinos machos con el estimador dv')\n",
    "plt.xlabel('Masa corporal (g)')\n",
    "plt.ylabel('Frecuencia')\n",
    "\n",
    "# Distribución de la masa corporal de los pingüinos hembra con el estimador dv\n",
    "plt.subplot(2, 2, 4)\n",
    "sns.histplot(dv_f[1], kde=True, color='navy', bins=30)\n",
    "plt.axvline(limite_inf_dv_f, color='red', linestyle='--', label='Límite inferior 95%')\n",
    "plt.axvline(limite_sup_dv_f, color='green', linestyle='--', label='Límite superior 95%')\n",
    "plt.axvline(dv_o_f, color='black', linestyle='-', label='Desviación estándar original')\n",
    "plt.title('Distribución de la bm de los pingüinos hembra con el estimador dv')\n",
    "plt.xlabel('Masa corporal (g)')\n",
    "plt.ylabel('Frecuencia')\n",
    "\n",
    "plt.tight_layout()\n",
    "plt.show()"
   ]
  },
  {
   "cell_type": "markdown",
   "metadata": {},
   "source": [
    "3.1 g) ¿Qué ventajas tiene el uso de Bootstrap en comparación con los métodos tradicionales de estimación de estadísticos?"
   ]
  },
  {
   "cell_type": "markdown",
   "metadata": {},
   "source": [
    "Bootstrap tiene muchísimas ventajas, entre ellas destaca la facilidad para calcular intervalos de confianza, los cuales se pueden obtener de forma directa sin depender de suposiciones sobre la distribución de los datos. Además, es muy versátil y puede aplicarse en una amplia variedad de problemas y tamaños de muestra, incluso cuando los datos no siguen una distribución conocida. Esto se debe a que se basa únicamente en el remuestreo de los datos originales, lo que lo hace fácil de implementar tanto a pequeña como a gran escala. También permite trabajar con todo tipo de estadísticos, incluso aquellos para los que no existe una fórmula analítica, lo que lo convierte en una herramienta sumamente flexible."
   ]
  },
  {
   "cell_type": "markdown",
   "metadata": {},
   "source": [
    "3.1 h) ¿Qué sucede con la estimación de algún estadístico si se varía el número de iteraciones/remuestreos bootstrap? Fundamente su respuesta con experimentos y gráficos."
   ]
  },
  {
   "cell_type": "markdown",
   "metadata": {},
   "source": [
    "Para esta ocasión ocuparemos el estadístico de la media y en los pingüinos machos de especie 'Chinstrap'"
   ]
  },
  {
   "cell_type": "code",
   "execution_count": null,
   "metadata": {},
   "outputs": [],
   "source": [
    "# Probemos iterando con distintos tamaños de muestra\n",
    "n_muestras = [1, 10, 100, 1000, 10000, 100000, 1000000, 10000000]\n",
    "\n",
    "# Iteramos sobre los tamaños de muestra\n",
    "resultados_media_m = []\n",
    "for n in n_muestras:\n",
    "    # Masa corporal de los pingüinos por sexo\n",
    "    estimacion_media_bootstrap_m = estimacion_media_bootstrap(body_mass_g_m, n)\n",
    "    resultados_media_m.append(estimacion_media_bootstrap_m[0])\n",
    "    print(f\"Estimación de la media de la masa corporal de los pingüinos machos con {n} muestras: {estimacion_media_bootstrap_m[0]:.2f}\")\n",
    "    "
   ]
  },
  {
   "cell_type": "code",
   "execution_count": null,
   "metadata": {},
   "outputs": [],
   "source": [
    "#Gráfico \n",
    "plt.figure(figsize=(10, 6))\n",
    "plt.plot(n_muestras, resultados_media_m, marker='o', color='navy')\n",
    "plt.xscale('log')\n",
    "plt.title('Estimación de la media de la masa corporal de los pingüinos machos')\n",
    "plt.axhline(bm_o_m, color='black', linestyle='-', label='Media original')\n",
    "plt.xlabel('Número de muestras')\n",
    "plt.ylabel('Media')\n",
    "plt.grid(True)\n",
    "plt.show()\n"
   ]
  },
  {
   "cell_type": "markdown",
   "metadata": {},
   "source": [
    "3.2 a) ¿Cuál es la fórmula para calcular el sesgo de la estimación de un parámetro? "
   ]
  },
  {
   "cell_type": "markdown",
   "metadata": {},
   "source": [
    "La fórmula para calcular el sesgo es la siguiente:\n",
    "$$\\text{Sesgo} = \\mathbb{E}[\\hat{\\theta}] - \\theta$$\n",
    "Usando Bootstrap con el método de Montecarlo se puede llegar a esta otra ecuación (apunte):\r",
    "$$\\text{Sesgo}[\\hat{\\theta}^*] = \\bar{R}^* = \\frac{1}{B} \\sum_{b=1}^B R_b^*$$\r\n"
   ]
  },
  {
   "cell_type": "markdown",
   "metadata": {},
   "source": [
    "3.2 b) ¿Cómo se puede utilizar el método bootstrap para estimar el sesgo de una estadística\n",
    "de interés? Explique detalladamente"
   ]
  },
  {
   "cell_type": "markdown",
   "metadata": {},
   "source": [
    "En informe"
   ]
  },
  {
   "cell_type": "markdown",
   "metadata": {},
   "source": [
    "3.2 c) Estime el sesgo de la media muestral usando el método Bootstrap. Trabaje sobre la\n",
    "columna body_mass_g. Muestre el resultado y comente."
   ]
  },
  {
   "cell_type": "code",
   "execution_count": null,
   "metadata": {},
   "outputs": [],
   "source": [
    "data_especie = df[df['species'] == 'Chinstrap']\n",
    "body_mass_g = data_especie['body_mass_g']\n",
    "\n",
    "# Número de remuestras\n",
    "B = 1000  \n",
    "media_bootstrap = np.zeros(B)\n",
    "media_original = body_mass_g.mean()\n",
    "\n",
    "# Generar B remuestras bootstrap y calcular la media para cada remuestra\n",
    "for i in range(B):\n",
    "    muestra_bootstrap = np.random.choice(body_mass_g, size=len(body_mass_g), replace=True)\n",
    "    media_bootstrap[i] = np.mean(muestra_bootstrap)\n",
    "\n",
    "# Estimando el sesgo\n",
    "sesgo = np.mean(media_bootstrap) - media_original\n",
    "\n",
    "print(f\"Media original: {media_original}\")\n",
    "print(f\"Sesgo estimado de la media usando Bootstrap: {sesgo}\")\n",
    "\n",
    "# Graficando la distribución de medias bootstrap\n",
    "plt.hist(media_bootstrap, bins=30, edgecolor='black', alpha=0.7, color='orange')\n",
    "plt.axvline(media_original, color='black', linestyle='dashed', linewidth=2, label=f'Media original: {media_original:.2f}')\n",
    "plt.title('Distribución de medias Bootstrap')\n",
    "plt.xlabel('Media Bootstrap')\n",
    "plt.ylabel('Frecuencia')\n",
    "plt.legend()\n",
    "plt.show()\n",
    "\n"
   ]
  },
  {
   "cell_type": "markdown",
   "metadata": {},
   "source": [
    "3.2 d) ¿Cómo se puede utilizar el método bootstrap para estimar la varianza de un estimador\n",
    "de interés? Explique detalladamente."
   ]
  },
  {
   "cell_type": "markdown",
   "metadata": {},
   "source": [
    "En informe"
   ]
  },
  {
   "cell_type": "markdown",
   "metadata": {},
   "source": [
    "3.2 e) Estime la varianza de la media muestral usando el método Bootstrap. Trabaje sobre la\n",
    "columna body_mass_g. Muestre el resultado y comente"
   ]
  },
  {
   "cell_type": "code",
   "execution_count": null,
   "metadata": {},
   "outputs": [],
   "source": [
    "body_mass = df['body_mass_g'].dropna()\n",
    "\n",
    "def bootstrap_variance(data, num_bootstrap=1000):\n",
    "    bootstrap_means = []\n",
    "    n = len(data)\n",
    "    for _ in range(num_bootstrap):\n",
    "        sample = np.random.choice(data, size=n, replace=True)\n",
    "        bootstrap_means.append(np.mean(sample))\n",
    "    return np.var(bootstrap_means)\n",
    "\n",
    "bootstrap_var = bootstrap_variance(body_mass)\n",
    "print(bootstrap_var)\n"
   ]
  },
  {
   "cell_type": "markdown",
   "metadata": {},
   "source": [
    "3.2 f) Calcule el MSE de la media muestral usando el método Bootstrap. ¿Cómo se interpreta\n",
    "el resultado obtenido? Comente."
   ]
  },
  {
   "cell_type": "code",
   "execution_count": null,
   "metadata": {},
   "outputs": [],
   "source": [
    "\n",
    "body_mass = df['body_mass_g'].dropna()\n",
    "\n",
    "def bootstrap_mse(data, num_bootstrap=1000):\n",
    "    bootstrap_means = []\n",
    "    n = len(data)\n",
    "    true_mean = np.mean(data)\n",
    "    for _ in range(num_bootstrap):\n",
    "        sample = np.random.choice(data, size=n, replace=True)\n",
    "        bootstrap_means.append(np.mean(sample))\n",
    "    mse = np.mean((np.array(bootstrap_means) - true_mean) ** 2)\n",
    "    return mse\n",
    "\n",
    "bootstrap_mse_result = bootstrap_mse(body_mass)\n",
    "print(bootstrap_mse_result)\n"
   ]
  }
 ],
 "metadata": {
  "kernelspec": {
   "display_name": "Python 3 (ipykernel)",
   "language": "python",
   "name": "python3"
  },
  "language_info": {
   "codemirror_mode": {
    "name": "ipython",
    "version": 3
   },
   "file_extension": ".py",
   "mimetype": "text/x-python",
   "name": "python",
   "nbconvert_exporter": "python",
   "pygments_lexer": "ipython3",
   "version": "3.12.4"
  }
 },
 "nbformat": 4,
 "nbformat_minor": 4
}
