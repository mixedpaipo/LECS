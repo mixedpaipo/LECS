{
 "cells": [
  {
   "cell_type": "markdown",
   "metadata": {},
   "source": [
    "### Código LEC1 2024-2\n",
    "\n",
    "Grupo A "
   ]
  },
  {
   "cell_type": "code",
   "execution_count": 2,
   "metadata": {},
   "outputs": [],
   "source": [
    "#Importamos pandas - para instalar: pip install pandas, pip install matplotlib y pip install numpy en terminal\n",
    "import pandas as pd  \n",
    "import numpy as np\n",
    "import math\n",
    "import matplotlib.pyplot as plt\n",
    "import seaborn as sns"
   ]
  },
  {
   "cell_type": "code",
   "execution_count": 3,
   "metadata": {},
   "outputs": [],
   "source": [
    "#Importación de los datos\n",
    "\n",
    "df = pd.read_csv('data.csv')"
   ]
  },
  {
   "cell_type": "markdown",
   "metadata": {},
   "source": [
    "- Preguntas 3.1\n",
    "\n",
    "3.1.a.1 ¿Cuántos géneros de música elegidos como favoritos hay?\n",
    "\n",
    "3.1.a.2 ¿Qué porcentaje abarca cada género de música?\n",
    "\n",
    "3.1.a.3 ¿Qué porcentaje abarca cada género de música elegido como favorito por personas que respondieron que la música \n",
    "mejora las condiciones de su salud mental?"
   ]
  },
  {
   "cell_type": "code",
   "execution_count": null,
   "metadata": {},
   "outputs": [],
   "source": [
    "# Para responder a 3.1.a.1\n",
    "print(\"La cantidad de géneros escogidos como favoritos es:\")\n",
    "df['Fav genre'].nunique()\n",
    "\n",
    "# Gráfico"
   ]
  },
  {
   "cell_type": "code",
   "execution_count": null,
   "metadata": {},
   "outputs": [],
   "source": [
    "# Para responder a 3.1.a.2\n",
    "i = 0\n",
    "valor = df['Fav genre'].value_counts()\n",
    "while i < 16:\n",
    "    g = valor.iloc[i]\n",
    "    genero= valor.index[i]\n",
    "    porcentaje = math.trunc((g / 737)*100*100)/100\n",
    "    print(\"El porcentaje para el genero\", genero, \"es:\", porcentaje, \"%\")\n",
    "    i+=1\n",
    "    \n",
    "valor1 = pd.DataFrame(valor)\n",
    "valor1.columns = ['counts']  \n",
    "valor1['porcentaje'] = (valor1['counts'] / 737) * 100\n",
    "    \n",
    "# Gráfico\n",
    "plt.figure(figsize=(8,4))\n",
    "valor1['porcentaje'].plot(kind='bar', color='crimson')\n",
    "plt.title(\"Porcentaje de veces que se agregó como favorito un género\")\n",
    "plt.xlabel(\"Género\")\n",
    "plt.ylabel(\"Porcentaje de favoritos (%)\")\n",
    "plt.xticks(rotation=60)\n",
    "plt.show()"
   ]
  },
  {
   "cell_type": "code",
   "execution_count": null,
   "metadata": {},
   "outputs": [],
   "source": [
    "# Para responder a la pregunta 3.1.a.3\n",
    "improve = df[df['Music effects'] == 'Improve']\n",
    "favgenre = improve['Fav genre'].value_counts()\n",
    "i=0\n",
    "while i < 16:\n",
    "    g = favgenre.iloc[i]\n",
    "    genero= favgenre.index[i]\n",
    "    porcentaje = math.trunc((g / favgenre.sum())*100*100)/100\n",
    "    print(\"El porcentaje para el genero\", genero, \"es:\", porcentaje, \"%\")\n",
    "    i+=1\n",
    "\n",
    "favgenre1 = pd.DataFrame(favgenre)\n",
    "favgenre1.columns = ['counts']  \n",
    "favgenre1['porcentaje'] = (favgenre1['counts'] / favgenre.sum()) * 100\n",
    "    \n",
    "# Gráfico\n",
    "plt.figure(figsize=(8,4))\n",
    "favgenre1['porcentaje'].plot(kind='bar', color='darkviolet')\n",
    "plt.title(\"Porcentaje que abarca cada género de música elegido como favorito por personas que respondieron Improve\")\n",
    "plt.xlabel(\"Género\")\n",
    "plt.ylabel(\"Porcentaje de favoritos (%)\")\n",
    "plt.xticks(rotation=60)\n",
    "plt.show()\n"
   ]
  },
  {
   "cell_type": "markdown",
   "metadata": {},
   "source": [
    "- Preguntas 3.1\n",
    "\n",
    "3.1.b  Escoja cualquier género musical dentro del conjunto de datos. ¿Cuál es la moda y el\n",
    "rango de la frecuencia (Frequency) en la que es escuchada el género de música que\n",
    "escogió?"
   ]
  },
  {
   "cell_type": "code",
   "execution_count": null,
   "metadata": {},
   "outputs": [],
   "source": [
    "#Para responder a la pregunta 3.1.b\n",
    "\n",
    "Kpop = df['Frequency [K pop]'].mode()\n",
    "print(\"La moda de la frecuencia en la que es escuchado el K-pop es: \", Kpop)\n",
    "\n",
    "#Al ser datos categoricos no se puede calcular el rango\n"
   ]
  },
  {
   "cell_type": "markdown",
   "metadata": {},
   "source": [
    "- Preguntas 3.1\n",
    "\n",
    "3.1.c Presente un análisis exploratorio de la edad (Age) y de la variable servicio de streaming primario (Primary streaming service). Utilice los estadísticos (media, moda, mediana, desviación estándar, varianza, mínimo, máximo, primer y tercer cuartil) y gráficos más adecuados para cada caso (histogramas, boxplots, etc.)"
   ]
  },
  {
   "cell_type": "code",
   "execution_count": null,
   "metadata": {},
   "outputs": [],
   "source": [
    "#Para responder a la pregunta 3.1.c\n",
    "EDAD_SS = df.groupby('Primary streaming service')\n",
    "EPE = EDAD_SS['Age'].agg(['count', 'mean', 'median', 'std', 'var', 'min', 'max'])\n",
    "i = 0\n",
    "servicios = df['Primary streaming service'].unique()\n",
    "print(EPE)\n",
    "\n",
    "for servicio in servicios:\n",
    "    edad_ss = df[df['Primary streaming service'] == servicio]\n",
    "    edadservicio= edad_ss['Age'].mode()\n",
    "    print(\"La moda para el servicio\", servicio, \"es: \", edadservicio)\n",
    "    \n",
    "\n",
    "num_servicios = len(servicios)\n",
    "num_cols = 2  \n",
    "num_rows = (num_servicios + num_cols - 1) // num_cols  \n",
    "\n",
    "plt.figure(figsize=(num_cols * 5, num_rows * 4))  \n",
    "\n",
    "for i, servicio in enumerate(servicios):\n",
    "    plt.subplot(num_rows, num_cols, i + 1)\n",
    "    sns.histplot(df[df['Primary streaming service'] == servicio]['Age'], kde=False, bins=15)\n",
    "    plt.title(f\"Edad - {servicio}\")\n",
    "    plt.xlabel(\"Edad\")\n",
    "    plt.ylabel(\"Frecuencia\")\n",
    "    \n",
    "plt.tight_layout()\n",
    "plt.show()"
   ]
  },
  {
   "cell_type": "markdown",
   "metadata": {},
   "source": [
    "- Preguntas 3.1\n",
    "\n",
    "3.1.d ¿Cuántos beats por minuto (BPM) tiene la respuesta del encuestado cuyo género favorito tiene más beats por minuto que el 90% de los encuestados?, ¿qué porcentaje de\n",
    "los encuestados tiene en su género favorito más de 95 beats por minutos? y ¿qué se\n",
    "puede concluir de estos valores?"
   ]
  },
  {
   "cell_type": "code",
   "execution_count": null,
   "metadata": {},
   "outputs": [],
   "source": []
  }
 ],
 "metadata": {
  "kernelspec": {
   "display_name": "Python 3",
   "language": "python",
   "name": "python3"
  },
  "language_info": {
   "codemirror_mode": {
    "name": "ipython",
    "version": 3
   },
   "file_extension": ".py",
   "mimetype": "text/x-python",
   "name": "python",
   "nbconvert_exporter": "python",
   "pygments_lexer": "ipython3",
   "version": "3.10.7"
  }
 },
 "nbformat": 4,
 "nbformat_minor": 2
}
