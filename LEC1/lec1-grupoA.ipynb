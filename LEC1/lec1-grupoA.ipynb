{
 "cells": [
  {
   "cell_type": "markdown",
   "metadata": {},
   "source": [
    "### Código LEC1 2024-2\n",
    "\n",
    "Grupo A "
   ]
  },
  {
   "cell_type": "code",
   "execution_count": 3,
   "metadata": {},
   "outputs": [],
   "source": [
    "\n",
    "#Importamos pandas - para instalar: pip install pandas, pip install matplotlib, pip install seaborn\n",
    "# pip install numpy y pip install scikit-learn en terminal.\n",
    "import pandas as pd  \n",
    "import numpy as np\n",
    "import math\n",
    "import matplotlib.pyplot as plt\n",
    "import seaborn as sns\n",
    "from sklearn.linear_model import LinearRegression"
   ]
  },
  {
   "cell_type": "code",
   "execution_count": 4,
   "metadata": {},
   "outputs": [],
   "source": [
    "#Importación de los datos\n",
    "\n",
    "df = pd.read_csv('data.csv')"
   ]
  },
  {
   "cell_type": "markdown",
   "metadata": {},
   "source": [
    "- Preguntas 3.1\n",
    "\n",
    "3.1.a.1 ¿Cuántos géneros de música elegidos como favoritos hay?\n",
    "\n",
    "3.1.a.2 ¿Qué porcentaje abarca cada género de música?\n",
    "\n",
    "3.1.a.3 ¿Qué porcentaje abarca cada género de música elegido como favorito por personas que respondieron que la música \n",
    "mejora las condiciones de su salud mental?"
   ]
  },
  {
   "cell_type": "code",
   "execution_count": null,
   "metadata": {},
   "outputs": [],
   "source": [
    "# Para responder a 3.1.a.1\n",
    "print(\"La cantidad de géneros escogidos como favoritos es:\")\n",
    "df['Fav genre'].nunique()\n",
    "\n",
    "# Gráfico"
   ]
  },
  {
   "cell_type": "code",
   "execution_count": null,
   "metadata": {},
   "outputs": [],
   "source": [
    "# Para responder a 3.1.a.2\n",
    "i = 0\n",
    "valor = df['Fav genre'].value_counts()\n",
    "while i < 16:\n",
    "    g = valor.iloc[i]\n",
    "    genero= valor.index[i]\n",
    "    porcentaje = math.trunc((g / 737)*100*100)/100\n",
    "    print(\"El porcentaje para el genero\", genero, \"es:\", porcentaje, \"%\")\n",
    "    i+=1\n",
    "    \n",
    "valor1 = pd.DataFrame(valor)\n",
    "valor1.columns = ['counts']  \n",
    "valor1['porcentaje'] = (valor1['counts'] / 737) * 100\n",
    "    \n",
    "# Gráfico\n",
    "plt.figure(figsize=(8,4))\n",
    "valor1['porcentaje'].plot(kind='bar', color='crimson')\n",
    "plt.title(\"Porcentaje de veces que se agregó como favorito un género\")\n",
    "plt.xlabel(\"Género\")\n",
    "plt.ylabel(\"Porcentaje de favoritos (%)\")\n",
    "plt.xticks(rotation=60)\n",
    "plt.show()"
   ]
  },
  {
   "cell_type": "code",
   "execution_count": null,
   "metadata": {},
   "outputs": [],
   "source": [
    "# Para responder a la pregunta 3.1.a.3\n",
    "improve = df[df['Music effects'] == 'Improve']\n",
    "favgenre = improve['Fav genre'].value_counts()\n",
    "i=0\n",
    "while i < 16:\n",
    "    g = favgenre.iloc[i]\n",
    "    genero= favgenre.index[i]\n",
    "    porcentaje = math.trunc((g / favgenre.sum())*100*100)/100\n",
    "    print(\"El porcentaje para el genero\", genero, \"es:\", porcentaje, \"%\")\n",
    "    i+=1\n",
    "\n",
    "favgenre1 = pd.DataFrame(favgenre)\n",
    "favgenre1.columns = ['counts']  \n",
    "favgenre1['porcentaje'] = (favgenre1['counts'] / favgenre.sum()) * 100\n",
    "    \n",
    "# Gráfico\n",
    "plt.figure(figsize=(8,4))\n",
    "favgenre1['porcentaje'].plot(kind='bar', color='darkviolet')\n",
    "plt.title(\"Porcentaje que abarca cada género de música elegido como favorito por personas que respondieron Improve\")\n",
    "plt.xlabel(\"Género\")\n",
    "plt.ylabel(\"Porcentaje de favoritos (%)\")\n",
    "plt.xticks(rotation=60)\n",
    "plt.show()\n"
   ]
  },
  {
   "cell_type": "markdown",
   "metadata": {},
   "source": [
    "- Preguntas 3.1\n",
    "\n",
    "3.1.b  Escoja cualquier género musical dentro del conjunto de datos. ¿Cuál es la moda y el\n",
    "rango de la frecuencia (Frequency) en la que es escuchada el género de música que\n",
    "escogió?"
   ]
  },
  {
   "cell_type": "code",
   "execution_count": null,
   "metadata": {},
   "outputs": [],
   "source": [
    "#Para responder a la pregunta 3.1.b\n",
    "\n",
    "Kpop = df['Frequency [K pop]'].mode()\n",
    "print(\"La moda de la frecuencia en la que es escuchado el K-pop es: \", Kpop)\n",
    "df['Frequency [K pop]'].value_counts()\n",
    "#Al ser datos categoricos no se puede calcular el rango\n"
   ]
  },
  {
   "cell_type": "markdown",
   "metadata": {},
   "source": [
    "- Preguntas 3.1\n",
    "\n",
    "3.1.c Presente un análisis exploratorio de la edad (Age) y de la variable servicio de streaming primario (Primary streaming service). Utilice los estadísticos (media, moda, mediana, desviación estándar, varianza, mínimo, máximo, primer y tercer cuartil) y gráficos más adecuados para cada caso (histogramas, boxplots, etc.)"
   ]
  },
  {
   "cell_type": "code",
   "execution_count": null,
   "metadata": {},
   "outputs": [],
   "source": [
    "#Para responder a la pregunta 3.1.c\n",
    "EDAD = df['Age'].value_counts().sort_index()\n",
    "EDADE = df['Age'].agg(['mean', 'median', 'std', 'var', 'min', 'max'])\n",
    "print(\"La moda es:\", df['Age'].mode())\n",
    "print(\"El primer y tercer cuartil son: \", df['Age'].quantile(0.25),\"y \", df['Age'].quantile(0.75))\n",
    "plt.figure(figsize=(14, 7))\n",
    "EDAD.plot(kind='bar', color='darkblue')\n",
    "plt.title(\"Cantidad de personas por edad\")\n",
    "plt.xlabel(\"Edad\")\n",
    "plt.ylabel(\"Número de Personas\")\n",
    "plt.legend(title=\"cantidad\")\n",
    "plt.show()"
   ]
  },
  {
   "cell_type": "code",
   "execution_count": null,
   "metadata": {},
   "outputs": [],
   "source": [
    "#Para responder a la pregunta 3.1.c\n",
    "SS = df['Primary streaming service'].value_counts()\n",
    "plt.figure(figsize=(14, 7))\n",
    "print(\"La moda es:\", df['Primary streaming service'].mode())\n",
    "SS.plot(kind='bar', color='darkred')\n",
    "plt.title(\"Cantidad de personas por servicio de streaming\")\n",
    "plt.xlabel(\"Servicio de Streaming\")\n",
    "plt.ylabel(\"Número de Personas\")\n",
    "plt.legend(title=\"cantidad\")\n",
    "plt.xticks(rotation=60)\n",
    "plt.show()"
   ]
  },
  {
   "cell_type": "markdown",
   "metadata": {},
   "source": [
    "- Preguntas 3.1\n",
    "\n",
    "3.1.d ¿Cuántos beats por minuto (BPM) tiene la respuesta del encuestado cuyo género favorito tiene más beats por minuto que el 90% de los encuestados?, ¿qué porcentaje de los encuestados tiene en su género favorito más de 95 beats por minutos? y ¿qué se puede concluir de estos valores?"
   ]
  },
  {
   "cell_type": "code",
   "execution_count": null,
   "metadata": {},
   "outputs": [],
   "source": [
    "#Para la pregunta 3.1.d\n",
    "percentil_90 = df['BPM'].quantile(0.9)\n",
    "\n",
    "arriba_90 = df[df['BPM'] > percentil_90]['BPM'].min()\n",
    "print(f\"El BPM del género favorito que tiene más BPM que el 90% de los encuestados es: {arriba_90}\")\n",
    "\n",
    "# Porcentaje de los encuestados que tienen en su genero favorito más de 95 beats por minuto\n",
    "arriba_95 = df[df['BPM'] >= 95]\n",
    "porcentaje = math.trunc((arriba_95.shape[0] / 737)*100*100)/100\n",
    "print(f\"El porcentaje total de los encuestados que tienen en su genero favorito más de 95 beats es: {porcentaje} %\")\n",
    "\n",
    "grupito = arriba_95['Fav genre'].value_counts()\n",
    "grupito = grupito.sort_index()\n",
    "plt.figure(figsize=(14, 7))\n",
    "grupito.plot(kind='bar', color = 'darkviolet')\n",
    "plt.title(\"Géneros favoritos y que tienen arriba de 95 BPM\")\n",
    "plt.xlabel(\"Género favorito\")\n",
    "plt.ylabel(\"Número de Personas\")\n",
    "plt.legend(title=\"UP95\")\n",
    "plt.show()\n"
   ]
  },
  {
   "cell_type": "markdown",
   "metadata": {},
   "source": [
    "- Preguntas 3.1\n",
    "\n",
    "3.1.e Indique la asimetría y curtosis de las horas por día (Hours per day) que se escucha música. ¿Qué se puede concluir de la distribución de los datos a partir de estos valores? Complemente su explicación con un gráfico y estadístico adecuado"
   ]
  },
  {
   "cell_type": "code",
   "execution_count": null,
   "metadata": {},
   "outputs": [],
   "source": [
    "grupito = df['Hours per day'].value_counts()\n",
    "grupito_1 = df['Hours per day'].agg(['mean', 'median', 'std', 'var', 'kurt'])\n",
    "grupito = grupito.sort_index()\n",
    "print(grupito_1)\n",
    "grupito_1_moda = df['Hours per day'].mode()\n",
    "print('moda      ', grupito_1_moda)\n",
    "plt.figure(figsize=(14, 7))\n",
    "grupito.plot(kind='bar', color = 'darkviolet')\n",
    "plt.title(\"Horas al día dependiendo de la cantidad de personas que escuchan esas horas\")\n",
    "plt.xlabel(\"Horas al día\")\n",
    "plt.ylabel(\"Número de Personas\")\n",
    "plt.legend(title=\"Horas\")\n",
    "plt.show()"
   ]
  },
  {
   "cell_type": "markdown",
   "metadata": {},
   "source": [
    "* Preguntas 3.2\n",
    " \n",
    "3.2.a Nuevamente presente un análisis exploratorio (de la misma forma que se pide en el\n",
    "enunciado 3.1.c) sobre algún indicador de salud mental a su elección (escoja entre ansiedad (Anxiety), depresión (Depression), insomnio (Insomnia) y TOC (OCD)), pero\n",
    "esta vez, deberá estratificar por edad (Age) y luego (separadamente) por servicio de\n",
    "streaming primario (Primary streaming service). ¿Considera que la edad o el servicio\n",
    "de streaming primario juega un papel en los indicadores de salud mental? Presente sus\n",
    "resultados y justifique"
   ]
  },
  {
   "cell_type": "code",
   "execution_count": null,
   "metadata": {},
   "outputs": [],
   "source": [
    "#Para responder a la pregunta 3.2.a\n",
    "\n",
    "#Estratificacion por edad\n",
    "bins = range(10, 95, 5)\n",
    "labels = [f'{i}-{i+4}' for i in range(10, 90, 5)]\n",
    "\n",
    "df[\"Age group\"] = pd.cut(df['Age'], bins=bins, labels=labels, right=False)\n",
    "\n",
    "grupo1 = df.groupby(\"Age group\")\n",
    "edad_depresion = grupo1['Depression'].agg(['count', 'mean', 'median', 'std', 'var', 'min', 'max',lambda x: x.quantile(0.25),lambda x: x.quantile(0.75)])\n",
    "edad_depresion.columns = ['count', 'mean', 'median', 'std', 'var', 'min', 'max', 'Q1', 'Q3']\n",
    "\n",
    "filtro = edad_depresion.fillna(0)\n",
    "print(filtro)\n",
    "\n",
    "#Estratificacion por sercicio de streaming\n",
    "grupo2 = df.groupby('Primary streaming service')\n",
    "\n",
    "servicio_depresion = grupo2['Depression'].agg(['count', 'mean', 'median', 'std', 'var', 'min', 'max',lambda x: x.quantile(0.25),lambda x: x.quantile(0.75)])\n",
    "servicio_depresion.columns = ['count', 'mean', 'median', 'std', 'var', 'min', 'max', 'Q1', 'Q3']\n",
    "\n",
    "print(servicio_depresion)\n",
    "\n",
    "#Graficando la estratificacion por edad\n",
    "plt.figure(figsize=(10, 6))\n",
    "sns.boxplot(x=\"Age group\", y=\"Depression\", data=df)\n",
    "plt.title(\"Distribución de la depresión por grupos de edad\")\n",
    "plt.xlabel(\"Grupo de Edad\")\n",
    "plt.ylabel(\"Depresión (Autodiagnosticada)\")\n",
    "plt.xticks(rotation=45)\n",
    "plt.show()\n",
    "\n",
    "edad_depresion[['mean', 'median', 'Q1', 'Q3']].plot(kind='bar', figsize=(10, 6))\n",
    "plt.title(\"Estadísticos de depresíon por grupos de edad\")\n",
    "plt.xlabel(\"Grupo de Edad\")\n",
    "plt.ylabel(\"Valor de la depresión\")\n",
    "plt.xticks(rotation=45)\n",
    "plt.show()\n",
    "\n",
    "#Graficando la estratificacion por servicio de streaming\n",
    "plt.figure(figsize=(10, 6))\n",
    "sns.boxplot(x=\"Primary streaming service\", y=\"Depression\", data=df)\n",
    "plt.title(\"Distribución de la depresión por servicio de streaming\")\n",
    "plt.xlabel(\"Servicio de streaming\")\n",
    "plt.ylabel(\"Depresión (Autodiagnosticada)\")\n",
    "plt.xticks(rotation=45)\n",
    "plt.show()\n",
    "\n",
    "servicio_depresion[['mean', 'median', 'Q1', 'Q3']].plot(kind='bar', figsize=(10, 6))\n",
    "plt.title(\"Estadísticos de depresíon por servicio de streaming\")\n",
    "plt.xlabel(\"Servicio de streaming\")\n",
    "plt.ylabel(\"Valor de la depresión\")\n",
    "plt.xticks(rotation=45)\n",
    "plt.show()\n",
    "\n"
   ]
  },
  {
   "cell_type": "markdown",
   "metadata": {},
   "source": [
    "* Preguntas 3.2\n",
    "  \n",
    "3.2b Estratifique por Estratifique por género favorito (Fav genre) y analice la media y la varianza del indicador de depresión (Depression) de los siguientes géneros musicales: Pop, Latin,\n",
    "Classical, Metal y Rap. Presente y comente sus resultados"
   ]
  },
  {
   "cell_type": "code",
   "execution_count": null,
   "metadata": {},
   "outputs": [],
   "source": [
    "#Para responder a la pregunta 3.2.b\n",
    "\n",
    "generos = df[(df[\"Fav genre\"] == \"Pop\") | (df['Fav genre'] == \"Latin\") | (df['Fav genre'] == \"Classical\") | (df['Fav genre'] == \"Metal\") | (df['Fav genre'] == \"Rap\") ]\n",
    "generos = generos.groupby(\"Fav genre\")\n",
    "generos_depresion = generos[\"Depression\"].agg([ 'mean', 'var'])\n",
    "print(generos_depresion)\n",
    "\n",
    "#Grafica\n",
    "generos_depresion[['mean', 'var']].plot(kind='bar', figsize=(10, 6))\n",
    "plt.title(\"Estadísticos de depresíon por generos pedidos\")\n",
    "plt.xlabel(\"Generos pedidos\")\n",
    "plt.ylabel(\"Valor de la depresión\")\n",
    "plt.xticks(rotation=45)\n",
    "plt.show()"
   ]
  },
  {
   "cell_type": "markdown",
   "metadata": {},
   "source": [
    "- Preguntas 3.2\n",
    "\n",
    "3.2.c Estratifique por servicio de streaming primario (Primary streaming service) y analice\n",
    "la distribución de la edad (Age). Presente gráficos y concluya."
   ]
  },
  {
   "cell_type": "code",
   "execution_count": null,
   "metadata": {},
   "outputs": [],
   "source": [
    "#Para responder a la pregunta 3.2.c\n",
    "EDAD_SS = df.groupby('Primary streaming service')\n",
    "EPE = EDAD_SS['Age'].agg(['count', 'mean', 'median', 'std', 'var', 'min', 'max'])\n",
    "i = 0\n",
    "servicios = df['Primary streaming service'].unique()\n",
    "print(EPE)\n",
    "\n",
    "for servicio in servicios:\n",
    "    edad_ss = df[df['Primary streaming service'] == servicio]\n",
    "    edadservicio= edad_ss['Age'].mode()\n",
    "    primercuartil = edad_ss['Age'].quantile(0.25)\n",
    "    tercercuartil = edad_ss['Age'].quantile(0.75)\n",
    "    print(\"La moda para el servicio\", servicio, \"es: \", edadservicio)\n",
    "    print(\"El primer cuartil para el servicio\", servicio, \"es: \", primercuartil)\n",
    "    print(\"El tercer cuartil para el servicio\", servicio, \"es: \", tercercuartil)\n",
    "\n",
    "    \n",
    "num_servicios = len(servicios)\n",
    "num_cols = 2  \n",
    "num_rows = (num_servicios + num_cols - 1) // num_cols  \n",
    "\n",
    "plt.figure(figsize=(num_cols * 5, num_rows * 4))  \n",
    "\n",
    "for i, servicio in enumerate(servicios):\n",
    "    plt.subplot(num_rows, num_cols, i + 1)\n",
    "    sns.histplot(df[df['Primary streaming service'] == servicio]['Age'], kde=False, bins=15)\n",
    "    plt.title(f\"Edad - {servicio}\")\n",
    "    plt.xlabel(\"Edad\")\n",
    "    plt.ylabel(\"Frecuencia\")\n",
    "    \n",
    "plt.tight_layout()\n",
    "\n",
    "plt.figure(figsize=(12, 8))\n",
    "sns.boxplot(x='Primary streaming service', y='Age', data=df, palette = 'deep')\n",
    "plt.title('Distribución de Edad por Servicio de Streaming', fontsize=16)\n",
    "plt.xlabel('Servicio de Streaming', fontsize=14)\n",
    "plt.ylabel('Edad', fontsize=14)\n",
    "plt.xticks(rotation=45)  \n",
    "\n",
    "plt.show()"
   ]
  },
  {
   "cell_type": "markdown",
   "metadata": {},
   "source": [
    "* Preguntas 3.2\n",
    "  \n",
    "3.2.d Estratifique los indicadores de salud mental (ansiedad (Anxiety), depresión (Depression), insomnio (Insomnia) y TOC (OCD)) y analice el promedio de horas diarias escuchadas (Hours per day)."
   ]
  },
  {
   "cell_type": "code",
   "execution_count": null,
   "metadata": {},
   "outputs": [],
   "source": [
    "#Para responder a la pregunta 3.2.d\n",
    "\n",
    "#Estratificar en intervalos de 2\n",
    "bins = [0, 2, 4, 6, 8, 10]\n",
    "labels = ['0-2', '2-4', '4-6', '6-8', '8-10']\n",
    "\n",
    "df['Anxiety range'] = pd.cut(df['Anxiety'], bins=bins, labels=labels, right=False)\n",
    "df['Depression range'] = pd.cut(df['Depression'], bins=bins, labels=labels, right=False)\n",
    "df['Insomnia range'] = pd.cut(df['Insomnia'], bins=bins, labels=labels, right=False)\n",
    "df['OCD range'] = pd.cut(df['OCD'], bins=bins, labels=labels, right=False)\n",
    "\n",
    "grupo1 = df.groupby('Anxiety range')['Hours per day'].mean()\n",
    "grupo2 = df.groupby('Depression range')['Hours per day'].mean()\n",
    "grupo3 = df.groupby('Insomnia range')['Hours per day'].mean()\n",
    "grupo4 = df.groupby('OCD range')['Hours per day'].mean()\n",
    "\n",
    "sns.set(style=\"whitegrid\")\n",
    "\n",
    "# Grafica ansiedad\n",
    "plt.figure(figsize=(12, 8))\n",
    "plt.subplot(2, 2, 1)\n",
    "sns.barplot(x=grupo1.index, y=grupo1.values, palette=\"Blues_d\")\n",
    "plt.title('Promedio de Horas por Día para Ansiedad')\n",
    "plt.xlabel('Rango de Ansiedad')\n",
    "plt.ylabel('Horas por Día')\n",
    "\n",
    "# Grafica depresión\n",
    "plt.subplot(2, 2, 2)\n",
    "sns.barplot(x=grupo2.index, y=grupo2.values, palette=\"Greens_d\")\n",
    "plt.title('Promedio de Horas por Día para Depresión')\n",
    "plt.xlabel('Rango de Depresión')\n",
    "plt.ylabel('Horas por Día')\n",
    "\n",
    "# Grafica insomnio\n",
    "plt.subplot(2, 2, 3)\n",
    "sns.barplot(x=grupo3.index, y=grupo3.values, palette=\"Oranges_d\")\n",
    "plt.title('Promedio de Horas por Día para Insomnio')\n",
    "plt.xlabel('Rango de Insomnio')\n",
    "plt.ylabel('Horas por Día')\n",
    "\n",
    "# Grafica TOC\n",
    "plt.subplot(2, 2, 4)\n",
    "sns.barplot(x=grupo4.index, y=grupo4.values, palette=\"Purples_d\")\n",
    "plt.title('Promedio de Horas por Día para TOC')\n",
    "plt.xlabel('Rango de TOC')\n",
    "plt.ylabel('Horas por Día')\n",
    "\n",
    "plt.tight_layout()\n",
    "plt.show()\n"
   ]
  },
  {
   "cell_type": "markdown",
   "metadata": {},
   "source": [
    "* Preguntas 3.2\n",
    "\n",
    "3.2.e Genere gráficos de caja (boxplots) usando el criterio de Tukey para visualizar los valores atípicos (outliers) de las horas de reproducción diarias (Hours per day) de al\n",
    "menos 2 preferencias de géneros musicales."
   ]
  },
  {
   "cell_type": "code",
   "execution_count": null,
   "metadata": {},
   "outputs": [],
   "source": [
    "#Para responder a la pregunta 3.2.e\n",
    "\n",
    "generos_seleccionados = ['Pop', 'Jazz'] \n",
    "grupo_seleccionados = df[df['Fav genre'].isin(generos_seleccionados)]\n",
    "\n",
    "# Grafico\n",
    "plt.figure(figsize=(10, 6))\n",
    "sns.boxplot(x='Fav genre', y='Hours per day', data=grupo_seleccionados)\n",
    "\n",
    "plt.title('Distribución de horas diarias por preferencia de género musical')\n",
    "plt.xlabel('Género Musical')\n",
    "plt.ylabel('Horas por día')\n",
    "plt.xticks(rotation=45)\n",
    "\n",
    "plt.show()"
   ]
  },
  {
   "cell_type": "markdown",
   "metadata": {},
   "source": [
    "* Preguntas 3.2\n",
    "\n",
    "3.2.f Estratifique la frecuencia de escucha de algún género musical (Frequency) y analice\n",
    "la edad (Age) de cada estrato. Utilice la media y desviación estándar para comentar sus\n",
    "conclusiones."
   ]
  },
  {
   "cell_type": "code",
   "execution_count": null,
   "metadata": {},
   "outputs": [],
   "source": [
    "#Para responder a la pregunta 3.2.d\n",
    "\n",
    "frec = df.groupby(\"Frequency [Jazz]\")\n",
    "frec_edades = frec[\"Age\"].agg(['mean','std'])\n",
    "print(frec_edades)\n",
    "\n",
    "#Grafico\n",
    "frec_edades[['mean', 'std']].plot(kind='bar', figsize=(10, 6), color=['green', 'salmon'])\n",
    "plt.title('Edad promedio y desviación estándar según la frecuencia de escucha de Jazz')\n",
    "plt.xlabel('Frecuencia de escucha de Jazz')\n",
    "plt.ylabel('Edad promedio')\n",
    "plt.xticks(rotation=45)\n",
    "plt.show()"
   ]
  },
  {
   "cell_type": "markdown",
   "metadata": {},
   "source": [
    "* Pregunta 3.3.a\n",
    "Grafique el promedio de la edad (Age) de los encuestados en función de los géneros\n",
    "favoritos (Fav genre) y a su vez estratificado por efecto sobre la salud mental (Music\n",
    "effects)."
   ]
  },
  {
   "cell_type": "code",
   "execution_count": null,
   "metadata": {},
   "outputs": [],
   "source": [
    "\n",
    "age_mean = df.groupby(['Fav genre', 'Music effects'])['Age'].mean().reset_index()\n",
    "\n",
    "plt.figure(figsize=(10, 6))\n",
    "sns.barplot(x='Fav genre', y='Age', hue='Music effects', data=age_mean)\n",
    "\n",
    "# Grafico\n",
    "plt.xlabel('Género Favorito')\n",
    "plt.ylabel('Promedio de Edad')\n",
    "plt.title('Promedio de Edad por Género Favorito y Efecto sobre la Salud Mental')\n",
    "plt.xticks(rotation=45)\n",
    "plt.tight_layout()\n",
    "plt.show()"
   ]
  },
  {
   "cell_type": "markdown",
   "metadata": {},
   "source": [
    "* Pregunta 3.3.b Grafique un histograma 2D sobre la variable beats por minuto (BPM) en función de\n",
    "la auto-evaluación de la salud mental en ansiedad (Anxiety), depresión (Depression),\n",
    "insomnio (Insomnia) y TOC (OCD). "
   ]
  },
  {
   "cell_type": "code",
   "execution_count": null,
   "metadata": {},
   "outputs": [],
   "source": [
    "# Filtrar los datos para que 'BPM' no tenga NaN\n",
    "df_filtrado = df.dropna(subset=['BPM'])\n",
    "\n",
    "# Filtrar los valores extremos para 'BPM'\n",
    "bpm_quintile_99 = df_filtrado['BPM'].quantile(0.99)\n",
    "df_filtrado = df_filtrado[df_filtrado['BPM'] < bpm_quintile_99]\n",
    "\n",
    "# Crear una figura con una cuadrícula de subplots.\n",
    "fig, ax = plt.subplots(2, 2, figsize=(14, 12))\n",
    "\n",
    "# Histograma 2D para BPM vs Anxiety.\n",
    "hist_anx = ax[0, 0].hist2d(df_filtrado['BPM'], df_filtrado['Anxiety'], bins=10, cmap='Blues')\n",
    "ax[0, 0].set_xlabel('BPM')\n",
    "ax[0, 0].set_ylabel('Anxiety')\n",
    "ax[0, 0].set_title('Histograma 2D: BPM vs Anxiety')\n",
    "fig.colorbar(hist_anx[3], ax=ax[0, 0], label='Densidad')\n",
    "ax[0, 0].set_xlim(0, 200)\n",
    "\n",
    "# Histograma 2D para BPM vs Depression.\n",
    "hist_dep = ax[0, 1].hist2d(df_filtrado['BPM'], df_filtrado['Depression'], bins=10, cmap='Blues')\n",
    "ax[0, 1].set_xlabel('BPM')\n",
    "ax[0, 1].set_ylabel('Depression')\n",
    "ax[0, 1].set_title('Histograma 2D: BPM vs Depression')\n",
    "fig.colorbar(hist_dep[3], ax=ax[0, 1], label='Densidad')\n",
    "ax[0, 1].set_xlim(0, 200)\n",
    "\n",
    "# Histograma 2D para BPM vs Insomnia.\n",
    "hist_ins = ax[1, 0].hist2d(df_filtrado['BPM'], df_filtrado['Insomnia'], bins=10, cmap='Blues')\n",
    "ax[1, 0].set_xlabel('BPM')\n",
    "ax[1, 0].set_ylabel('Insomnia')\n",
    "ax[1, 0].set_title('Histograma 2D: BPM vs Insomnia')\n",
    "fig.colorbar(hist_ins[3], ax=ax[1, 0], label='Densidad')\n",
    "ax[1, 0].set_xlim(0, 200)\n",
    "\n",
    "# Histograma 2D para BPM vs OCD.\n",
    "hist_ocd = ax[1, 1].hist2d(df_filtrado['BPM'], df_filtrado['OCD'], bins=10, cmap='Blues')\n",
    "ax[1, 1].set_xlabel('BPM')\n",
    "ax[1, 1].set_ylabel('OCD')\n",
    "ax[1, 1].set_title('Histograma 2D: BPM vs OCD')\n",
    "fig.colorbar(hist_ocd[3], ax=ax[1, 1], label='Densidad')\n",
    "ax[1, 1].set_xlim(0, 200)\n",
    "\n",
    "plt.tight_layout()\n",
    "plt.show()"
   ]
  },
  {
   "cell_type": "markdown",
   "metadata": {},
   "source": [
    "* Pregunta 3.3.c Obtenga dos matrices de correlación:\n",
    "La primera entre las variables edad (Age), mientras trabaja (While working), instrumentalista (Instrumentalist), compositor (Composer), exploratorio (Exploratory), idiomas extranjeros (Foreign languages) y efectos de la música (Music\n",
    "effects).\n",
    "Y para la segunda utilice las variables ansiedad (Anxiety), depresión (Depression), insomnio (Insomnia) y TOC (OCD).\n",
    "\n"
   ]
  },
  {
   "cell_type": "code",
   "execution_count": null,
   "metadata": {},
   "outputs": [],
   "source": [
    "#Segunda Matriz.\n",
    "columnas = ['Anxiety', 'Depression', 'Insomnia', 'OCD']\n",
    "df_listo = df[columnas]\n",
    "\n",
    "correlation_matrix = df_listo.corr()\n",
    "\n",
    "plt.figure(figsize=(12, 8))\n",
    "sns.heatmap(correlation_matrix, annot=True, cmap='coolwarm', fmt='.2f', vmin=-1, vmax=1, center=0)\n",
    "\n",
    "plt.title('Matriz de Correlación')\n",
    "\n",
    "plt.show()"
   ]
  },
  {
   "cell_type": "code",
   "execution_count": null,
   "metadata": {},
   "outputs": [],
   "source": [
    "#Primera Matriz.import pandas as pd\n",
    "cambiar1 = [\"While working\", \"Instrumentalist\", \"Exploratory\", \"Foreign languages\",\"Composer\"]\n",
    "\n",
    "total=[\"Age\",\"While working\",\"Composer\", \"Instrumentalist\", \"Exploratory\", \"Foreign languages\", \"Music effects\"]\n",
    "df = df.dropna(subset=[\"Music effects\"])\n",
    "df = df.dropna(subset=[\"While working\"])\n",
    "df = df.dropna(subset=[\"Age\"])\n",
    "df = df.dropna(subset=[\"Composer\"])\n",
    "df = df.dropna(subset=[\"Instrumentalist\"])\n",
    "df = df.dropna(subset=[\"Exploratory\"])\n",
    "df = df.dropna(subset=[\"Foreign languages\"])\n",
    "cambiar2 = [\"Music effects\"]\n",
    "df[cambiar1] = df[cambiar1].replace({\"Yes\": 1, \"No\": 0})\n",
    "df[cambiar2] = df[cambiar2].replace({\"Improve\": 2,\"No effect\":1, \"Worsen\":0})\n",
    "\n",
    "df_listo = df[total]\n",
    "correlation_matrix = df_listo.corr()\n",
    "plt.figure(figsize=(12, 8))\n",
    "sns.heatmap(correlation_matrix, annot=True, cmap='coolwarm', fmt='.2f', vmin=-1, vmax=1, center=0)\n",
    "plt.title('Matriz de Correlación 1')\n",
    "\n",
    "plt.show()\n",
    "\n"
   ]
  },
  {
   "cell_type": "markdown",
   "metadata": {},
   "source": [
    "* Pregunta 3.3.d Ajuste un modelo de regresión lineal de las horas por día (Hours per day) en función\n",
    "de la edad (Age). Presente un gráfico de dispersión junto a la recta encontrada. "
   ]
  },
  {
   "cell_type": "code",
   "execution_count": null,
   "metadata": {},
   "outputs": [],
   "source": [
    "\n",
    "df_filtrado = df[['Age', 'Hours per day']].dropna()\n",
    "\n",
    "\n",
    "x = df_filtrado['Age'].values.reshape(-1, 1)  \n",
    "y = df_filtrado['Hours per day'].values\n",
    "\n",
    "# Ajustar el modelo de regresión lineal.\n",
    "modelo = LinearRegression()\n",
    "modelo.fit(x, y)\n",
    "y_predict = modelo.predict(x)\n",
    "\n",
    "plt.scatter(x, y, label = \"Datos\", color = \"blue\")\n",
    "plt.plot(x, y_predict, label = \"Línea de regresión\", color = \"red\")\n",
    "plt.xlabel(\"Eje X\")\n",
    "plt.ylabel(\"Eje Y\")\n",
    "plt.title(\"Modelo de regresión lineal\")\n",
    "plt.legend()\n",
    "plt.show()"
   ]
  }
 ],
 "metadata": {
  "kernelspec": {
   "display_name": "Python 3 (ipykernel)",
   "language": "python",
   "name": "python3"
  },
  "language_info": {
   "codemirror_mode": {
    "name": "ipython",
    "version": 3
   },
   "file_extension": ".py",
   "mimetype": "text/x-python",
   "name": "python",
   "nbconvert_exporter": "python",
   "pygments_lexer": "ipython3",
   "version": "3.10.7"
  }
 },
 "nbformat": 4,
 "nbformat_minor": 4
}
