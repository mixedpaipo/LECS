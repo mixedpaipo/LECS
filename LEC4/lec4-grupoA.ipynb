{
 "cells": [
  {
   "cell_type": "markdown",
   "metadata": {},
   "source": [
    "### Código LEC4 2024-2\n",
    "\n",
    "Grupo A "
   ]
  },
  {
   "cell_type": "code",
   "execution_count": null,
   "metadata": {},
   "outputs": [],
   "source": [
    "# Importación de librerías:\n",
    "import numpy as np\n",
    "import random\n",
    "import matplotlib.pyplot as plt\n",
    "import seaborn as sns\n",
    "from scipy.optimize import minimize\n",
    "from scipy.stats import norm\n",
    "import scipy.stats as stats\n",
    "from scipy.stats import beta"
   ]
  },
  {
   "cell_type": "markdown",
   "metadata": {},
   "source": [
    "##### 2.1 Estimación de Máxima Verosimilitud "
   ]
  },
  {
   "cell_type": "markdown",
   "metadata": {},
   "source": [
    "a) Generar conjunto de datos"
   ]
  },
  {
   "cell_type": "code",
   "execution_count": null,
   "metadata": {},
   "outputs": [],
   "source": [
    "# Conjunto de datos: Media = 5, Desviación estandar = 2.5\n",
    "data = np.random.normal(loc = 5, scale = 2.5, size = 1000)"
   ]
  },
  {
   "cell_type": "markdown",
   "metadata": {},
   "source": [
    "- b) Función de verosimilitud: \n",
    "$$L(\\mu, \\sigma^2) = \\prod_{i = 1}^{1000} \\frac{1}{\\sqrt{2 \\pi \\sigma^2}} e^{\\left( -\\frac{(x_i - \\mu)^2}{2 \\sigma^2} \\right)}$$"
   ]
  },
  {
   "cell_type": "markdown",
   "metadata": {},
   "source": [
    "Simplificando: \n",
    "$$\\displaystyle L(\\mu, \\sigma^2) =  \\left( \\frac{1}{\\sqrt{2 \\pi \\sigma^2}} \\right)^{1000} e^{\\left( -\\frac{1}{2 \\sigma^2}\\sum_{i=1}^{1000}(x_i - \\mu)^2 \\right)}$$"
   ]
  },
  {
   "cell_type": "markdown",
   "metadata": {},
   "source": [
    "- c) log-verisimilitud:\n",
    "$$ \\log(L(\\mu, \\sigma^2)) = -\\frac{n}{2}\\log(2\\sqrt{\\pi}\\sigma^2) - \\frac{1}{2\\sigma^2}\\sum_{i=1}^{1000}\\left(x_i -\\mu\\right)^2$$\n"
   ]
  },
  {
   "cell_type": "markdown",
   "metadata": {},
   "source": [
    "d) Estimar los parametros"
   ]
  },
  {
   "cell_type": "code",
   "execution_count": null,
   "metadata": {},
   "outputs": [],
   "source": [
    "# Log-verisimilitud:\n",
    "def log_veri(params):\n",
    "    mu = params[0]\n",
    "    sigma = params[1]\n",
    "    n = len(data)\n",
    "    L = -n/2 * np.log(2 * np.pi) - n/2 * np.log(sigma**2) - 1/(2 * sigma**2) * np.sum((data - mu)**2)\n",
    "    return -L"
   ]
  },
  {
   "cell_type": "code",
   "execution_count": null,
   "metadata": {},
   "outputs": [],
   "source": [
    "# Definimos params iniciales:\n",
    "params = np.array([5, 2.5])\n",
    "\n",
    "# Usamos minimize para estimar los parámetros:\n",
    "resultados = minimize(log_veri, params)\n",
    "\n",
    "# Imprimimos los resultados:\n",
    "mu = resultados.x[0]\n",
    "sigma = resultados.x[1]\n",
    "print('Media estimada:', mu, '\\nDesviación estandar estimada:', sigma)"
   ]
  },
  {
   "cell_type": "markdown",
   "metadata": {},
   "source": [
    "e) Histograma con los parametros y data inicial"
   ]
  },
  {
   "cell_type": "code",
   "execution_count": null,
   "metadata": {},
   "outputs": [],
   "source": [
    "# Histogramas\n",
    "plt.figure(figsize=(10, 6))\n",
    "plt.hist(data, bins=30, color='pink', edgecolor='black', alpha=0.7, density=True)\n",
    "plt.title('Histograma de los datos iniciales y estimación de la distribución normal')\n",
    "plt.xlabel('Valores')  \n",
    "plt.ylabel('Densidad')\n",
    "\n",
    "# Distribución original\n",
    "x_original = np.linspace(params[0] - 3 * params[1], params[0] + 3 * params[1], 1000)\n",
    "pdf_original = norm.pdf(x_original, params[0], params[1])\n",
    "plt.plot(x_original, pdf_original, color='green', lw=2, label='Distribución Normal Original')\n",
    "\n",
    "# Distribución estimada\n",
    "x_estimado = np.linspace(mu - 3 * sigma, mu + 3 * sigma, 1000)\n",
    "pdf_estimado = norm.pdf(x_estimado, mu, sigma)\n",
    "plt.plot(x_estimado, pdf_estimado, color='red', lw=2, label='Distribución Normal Estimada')\n",
    "\n",
    "# Marcar la media estimada\n",
    "plt.axvline(x=mu, color='red', linestyle='--', label='Media Estimada')\n",
    "\n",
    "plt.legend()\n",
    "plt.grid()\n",
    "plt.show()\n"
   ]
  },
  {
   "cell_type": "markdown",
   "metadata": {},
   "source": [
    "f) Calcular un intervalo de confianza de 95% de los parametros, luego graficar:\n",
    "- El intervalo de confianza se calcula como $$IC = \\mu \\pm Z_{\\alpha/2} \\cdot SE$$, donde SE $$\\frac{\\sigma}{\\sqrt{n}}$$"
   ]
  },
  {
   "cell_type": "code",
   "execution_count": null,
   "metadata": {},
   "outputs": [],
   "source": [
    "# Calculamos SE:\n",
    "SE_media = sigma / np.sqrt(1000)\n",
    "z_critico = stats.norm.ppf(0.975)\n",
    "\n",
    "margen1 = z_critico * SE_media\n",
    "ICmedia = (mu - margen1, mu + margen1)\n",
    "\n",
    "SE_std = sigma / np.sqrt(2 * (999))\n",
    "\n",
    "margen2 = z_critico * SE_std\n",
    "ICstd = (sigma - margen2, sigma + margen2)\n",
    "\n",
    "print(f\"Intervalo de confianza del 95% de la media: ({ICmedia[0]:.4f}, {ICmedia[1]:.4f})\")\n",
    "print(f\"Intervalo de confianza del 95% de la desviación estándar: ({ICstd[0]:.4f}, {ICstd[1]:.4f})\")\n"
   ]
  },
  {
   "cell_type": "code",
   "execution_count": null,
   "metadata": {},
   "outputs": [],
   "source": [
    "# Gráficos\n",
    "plt.figure(figsize=(12, 6))\n",
    "plt.hist(data, bins=30, color='navy', edgecolor='black', alpha=0.7, density=True)\n",
    "plt.title('Histograma de los datos con intervalos de confianza del 95%')\n",
    "plt.xlabel('Valores')  \n",
    "plt.ylabel('Densidad')\n",
    "\n",
    "# Marcar la media\n",
    "plt.axvline(x=mu, color='red', linestyle='--', label='Media Estimada')\n",
    "\n",
    "# Marcar el intervalo de confianza para la media\n",
    "plt.axvline(x=ICmedia[0], color='green', linestyle='--', label='Límite Inferior IC Media (95%)')\n",
    "plt.axvline(x=ICmedia[1], color='orange', linestyle='--', label='Límite Superior IC Media (95%)')\n",
    "\n",
    "# Marcar el intervalo de confianza para la desviación estándar \n",
    "plt.fill_betweenx(y=[0, 0.15], x1=ICstd[0], x2=ICstd[1], \n",
    "                  color='purple', alpha=0.2, label='Intervalo de Confianza STD')\n",
    "\n",
    "# Añadir leyenda y cuadrícula\n",
    "plt.legend()\n",
    "plt.grid()\n",
    "plt.show()"
   ]
  },
  {
   "cell_type": "markdown",
   "metadata": {},
   "source": [
    "#### 2.2 Inferencia Bayesiana - MAP"
   ]
  },
  {
   "cell_type": "markdown",
   "metadata": {},
   "source": [
    "a) Realice una serie de 500 lanzamientos de la moneda del stand. Plantee una función\n",
    "y simule estos lanzamientos en Python. Use la inferencia bayesiana para actualizar\n",
    "la estimación de θ después de cada lanzamiento. Explique su implementación de la\n",
    "simulación y la inferencia."
   ]
  },
  {
   "cell_type": "code",
   "execution_count": null,
   "metadata": {},
   "outputs": [],
   "source": [
    "true_theta = 0.7\n",
    "\n",
    "def simular_lanzamientos(n_lanzamientos, theta):\n",
    "    return np.random.rand(n_lanzamientos) < theta\n",
    "\n",
    "alpha_prior = 1\n",
    "beta_prior = 1\n",
    "\n",
    "n_lanzamientos = 500\n",
    "resultados = simular_lanzamientos(n_lanzamientos, true_theta)\n",
    "\n",
    "alpha_post = alpha_prior\n",
    "beta_post = beta_prior\n",
    "estimaciones_theta = []\n",
    "\n",
    "for resultado in resultados:\n",
    "    if resultado:\n",
    "        alpha_post += 1\n",
    "    else:\n",
    "        beta_post += 1\n",
    "    estimaciones_theta.append((alpha_post - 1) / (alpha_post + beta_post - 2))\n",
    "\n",
    "plt.plot(estimaciones_theta, label=\"Estimación MAP de θ\")\n",
    "plt.axhline(y=true_theta, color='r', linestyle='--', label=\"Valor real de θ (0.7)\")\n",
    "plt.xlabel(\"Número de lanzamientos\")\n",
    "plt.ylabel(\"Estimación de θ\")\n",
    "plt.title(\"Actualización de la estimación de θ después de cada lanzamiento\")\n",
    "plt.legend()\n",
    "plt.grid(True)\n",
    "plt.show()\n",
    "\n",
    "estimaciones_theta[-1]"
   ]
  },
  {
   "cell_type": "markdown",
   "metadata": {},
   "source": [
    "b) Visualice cómo cambia la distribución posterior a medida que observas más lanzamientos. ¿Cómo afecta la cantidad de lanzamientos a tu certeza sobre si la moneda\n",
    "está sesgada? Realice un gráfico para 1, 5, 10, 50, 100 y 500 lanzamientos."
   ]
  },
  {
   "cell_type": "code",
   "execution_count": null,
   "metadata": {},
   "outputs": [],
   "source": [
    "true_theta = 0.7\n",
    "\n",
    "def simular_lanzamientos(n_lanzamientos, theta):\n",
    "    return np.random.rand(n_lanzamientos) < theta\n",
    "\n",
    "alpha_prior = 1\n",
    "beta_prior = 1\n",
    "\n",
    "n_lanzamientos = 500\n",
    "resultados = simular_lanzamientos(n_lanzamientos, true_theta)\n",
    "\n",
    "lanzamientos_a_graficar = [1, 5, 10, 50, 100, 500]\n",
    "x = np.linspace(0, 1, 1000)\n",
    "\n",
    "plt.figure(figsize=(15, 10))\n",
    "\n",
    "for i, n in enumerate(lanzamientos_a_graficar):\n",
    "    alpha_post_n = alpha_prior + np.sum(resultados[:n])\n",
    "    beta_post_n = beta_prior + n - np.sum(resultados[:n])\n",
    "    \n",
    "    plt.subplot(2, 3, i + 1)\n",
    "    plt.plot(x, beta.pdf(x, alpha_post_n, beta_post_n), label=f\"{n} lanzamientos\")\n",
    "    plt.axvline(x=true_theta, color='r', linestyle='--', label=\"Valor real de θ\")\n",
    "    plt.title(f\"Posterior después de {n} lanzamientos\")\n",
    "    plt.xlabel(\"θ\")\n",
    "    plt.ylabel(\"Densidad\")\n",
    "    plt.legend()\n",
    "    plt.grid(True)\n",
    "\n",
    "plt.tight_layout()\n",
    "plt.show()"
   ]
  },
  {
   "cell_type": "markdown",
   "metadata": {},
   "source": [
    "c) Después de realizar todos los lanzamientos, use la distribución posterior para calcular\n",
    "una estimación MAP de θ. ¿Qué valor de θ se obtiene como el más probable?"
   ]
  },
  {
   "cell_type": "code",
   "execution_count": null,
   "metadata": {},
   "outputs": [],
   "source": [
    "# Cálculo de la moda después de todos los lanzamientos\n",
    "theta_MAP = (alpha_post - 1) / (alpha_post + beta_post - 2)\n",
    "theta_MAP\n"
   ]
  },
  {
   "cell_type": "markdown",
   "metadata": {},
   "source": [
    "d) ¿Qué sucede si eliges una prior distinta, como una que favorezca valores de θ muy cercanos a 0.5, o una que considere que la moneda está sesgada para obtener cruz? ¿Cómo\n",
    "cambia esto la evolución de la posterior y la estimación final? ¿Qué conclusiones obtiene frente al tamaño de la muestra de datos? Realice experimentos que respalden sus\n",
    "conclusiones."
   ]
  },
  {
   "cell_type": "code",
   "execution_count": null,
   "metadata": {},
   "outputs": [],
   "source": [
    "# Parámetros reales de la moneda\n",
    "true_theta = 0.7\n",
    "n_lanzamientos = 500\n",
    "\n",
    "# Experimentos con diferentes priors\n",
    "priors = {\n",
    "    \"Uniforme (Beta(1,1))\": (1, 1),\n",
    "    \"Cercano a 0.5 (Beta(20,20))\": (20, 20),\n",
    "    \"Sesgado hacia cruz (Beta(1,10))\": (1, 10)\n",
    "}\n",
    "\n",
    "resultados = simular_lanzamientos(n_lanzamientos, true_theta)\n",
    "\n",
    "#Graficas para cada prior\n",
    "plt.figure(figsize=(12, 8))\n",
    "for nombre_prior, (alpha_prior, beta_prior) in priors.items():\n",
    "    alpha_post = alpha_prior\n",
    "    beta_post = beta_prior\n",
    "    estimaciones_theta = []\n",
    "\n",
    "    for resultado in resultados:\n",
    "        if resultado:\n",
    "            alpha_post += 1 \n",
    "        else:\n",
    "            beta_post += 1 \n",
    "        theta_MAP = (alpha_post - 1) / (alpha_post + beta_post - 2)\n",
    "        estimaciones_theta.append(theta_MAP)\n",
    "\n",
    "    plt.plot(estimaciones_theta, label=f\"{nombre_prior}: θ_MAP\")\n",
    "    \n",
    "plt.axhline(y=true_theta, color='r', linestyle='--', label=\"Valor real de θ (0.7)\")\n",
    "plt.xlabel(\"Número de lanzamientos\")\n",
    "plt.ylabel(\"Estimación de θ\")\n",
    "plt.title(\"Evolución de la estimación de θ con diferentes priors\")\n",
    "plt.legend()\n",
    "plt.grid(True)\n",
    "plt.show()\n",
    "\n",
    "\n",
    "\n",
    "\n",
    "\n",
    "\n"
   ]
  },
  {
   "cell_type": "markdown",
   "metadata": {},
   "source": [
    "e) Compara tu estimación MAP con la estimación de máxima verosimilitud (MLE). ¿Hay\n",
    "alguna diferencia significativa entre ambas? ¿Qué factores podrían explicar estas diferencias?"
   ]
  },
  {
   "cell_type": "markdown",
   "metadata": {},
   "source": [
    "Usando el ejemplo del apunte obtenemos que estimador de máxima\n",
    "verosimilitud pˆ para una distribución de Bernoulli es:\n",
    "\n",
    "$$\\hat{p} = \\frac{\\sum_{i=1}^{n} X_i}{n}$$\n"
   ]
  },
  {
   "cell_type": "code",
   "execution_count": null,
   "metadata": {},
   "outputs": [],
   "source": [
    "# Cálculo de MLE\n",
    "theta_MLE = np.sum(resultados) / n_lanzamientos\n",
    "\n",
    "# Cálculo de MAP\n",
    "theta_MAP = (alpha_post - 1) / (alpha_post + beta_post - 2)\n",
    "\n",
    "print(f\"Estimación MLE de θ: {theta_MLE}\")\n",
    "print(f\"Estimación MAP de θ: {theta_MAP}\")"
   ]
  }
 ],
 "metadata": {
  "kernelspec": {
   "display_name": "Python 3 (ipykernel)",
   "language": "python",
   "name": "python3"
  },
  "language_info": {
   "codemirror_mode": {
    "name": "ipython",
    "version": 3
   },
   "file_extension": ".py",
   "mimetype": "text/x-python",
   "name": "python",
   "nbconvert_exporter": "python",
   "pygments_lexer": "ipython3",
   "version": "3.11.7"
  }
 },
 "nbformat": 4,
 "nbformat_minor": 4
}
